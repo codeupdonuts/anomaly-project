{
 "cells": [
  {
   "cell_type": "code",
   "execution_count": 2,
   "id": "07a823f2",
   "metadata": {},
   "outputs": [],
   "source": [
    "import warnings\n",
    "warnings.filterwarnings(\"ignore\")\n",
    "import matplotlib.pyplot as plt\n",
    "import seaborn as sns\n",
    "import numpy as np\n",
    "import pandas as pd\n",
    "import env\n",
    "import acquire as a\n",
    "from os.path import isfile\n",
    "from importlib import reload"
   ]
  },
  {
   "cell_type": "markdown",
   "id": "01bc3e21",
   "metadata": {},
   "source": [
    "1. Which lesson appears to attract the most traffic consistently across cohorts (per program)?\n",
    "2. Is there a cohort that referred to a lesson significantly more than other cohorts seemed to gloss over?\n",
    "3. Are there students who, when active, hardly access the curriculum? If so, what information do you have about these students?\n",
    "4. Is there any suspicious activity, such as users/machines/etc accessing the curriculum who shouldn’t be? Does it appear that any web-scraping is happening? Are there any suspicious IP addresses?\n",
    "5. At some point in 2019, the ability for students and alumni to access both curriculums (web dev to ds, ds to web dev) should have been shut off. Do you see any evidence of that happening? Did it happen before?\n",
    "6. What topics are grads continuing to reference after graduation and into their jobs (for each program)?\n",
    "7. Which lessons are least accessed?\n",
    "8. Anything else I should be aware of?"
   ]
  },
  {
   "cell_type": "code",
   "execution_count": 3,
   "id": "d8ba29b4",
   "metadata": {},
   "outputs": [],
   "source": [
    "# def acquire_cohorts()->pd.DataFrame:\n",
    "#     if isfile('cohort_logs.csv'):\n",
    "#         return pd.read_csv('cohort_logs.csv',index_col=[0])\n",
    "#     query = '''SELECT id AS cohort, name AS cohort_name , start_date, end_date, program_id FROM cohorts'''\n",
    "#     url = f'mysql+pymysql://{env.user}:{env.password}@{env.host}/curriculum_logs'\n",
    "#     df = pd.read_sql(query,url)\n",
    "#     df.index = df.cohort\n",
    "#     return cohorts_df"
   ]
  },
  {
   "cell_type": "code",
   "execution_count": 6,
   "id": "61f6bbaa",
   "metadata": {},
   "outputs": [],
   "source": [
    "# def acquire_curriculum_data():\n",
    "#     '''This function gets curriculum data from the local repo, which is stored\n",
    "#     as a .txt file'''\n",
    "#     #Get the data from text file on local repo\n",
    "#     df = pd.read_table(\"anonymized-curriculum-access.txt\", sep = '\\s', header = None, \n",
    "#                    names = ['date', 'time', 'page', 'id', 'cohort', 'ip'])\n",
    "#     df.date = pd.to_datetime(df.date + ' ' + df.time)\n",
    "#     df = df.drop(columns=['time'])\n",
    "#     df = df.set_index(df['date'])\n",
    "#     df = df.drop(columns=['date'])               \n",
    "#     return df"
   ]
  },
  {
   "cell_type": "code",
   "execution_count": 10,
   "id": "823a0670",
   "metadata": {},
   "outputs": [],
   "source": [
    "# def clean_cohort_logs(df):\n",
    "#     #Get csv from file\n",
    "#     df = pd.read_csv('cohort_logs.csv', index_col=[0])\n",
    "#     #Changing date, start and end dates to datetime fields\n",
    "#     df[\"date\"]= pd.to_datetime(df[\"date\"])\n",
    "#     df[\"start_date\"]= pd.to_datetime(df[\"start_date\"])\n",
    "#     df[\"end_date\"]= pd.to_datetime(df[\"end_date\"])\n",
    "#     #Setting index as date time\n",
    "#     #Set datetime index\n",
    "#     df = df.set_index(df.date)\n",
    "#     #Creating new column for program length\n",
    "#     df['program_length'] = df.end_date - df.start_date\n",
    "#     #Create column with program name\n",
    "#     #Change data types as needed\n",
    "#     df[\"program_id\"]= df[\"program_id\"].astype(str)\n",
    "#     #Copying these values to a new column program name\n",
    "#     df['program_name'] = df['program_id']\n",
    "#     #Mapping the real names of the program\n",
    "#     df[\"program_name\"] = df[\"program_name\"].map({'1.0':'full stack PHP','2.0':'full stack Java','3.0':'data science','4.0':'front end'})\n",
    "    \n",
    "#     return df"
   ]
  },
  {
   "cell_type": "code",
   "execution_count": 11,
   "id": "225e5ca5",
   "metadata": {},
   "outputs": [],
   "source": [
    "# def wrangle_curriculum_access()->pd.DataFrame:\n",
    "#     curriculum_df = acquire_curriculum_data()\n",
    "#     cohort_df = acquire_cohorts()\n",
    "#     cohort_df = clean_cohort_logs(cohort_df)\n",
    "#     curriculum_df = curriculum_df.join(cohort_df,on='cohort',how='left',lsuffix='_id')\n",
    "#     curriculum_df = curriculum_df.drop(columns=['cohort_id','cohort','program_id'])\n",
    "#     curriculum_df.program_name = curriculum_df.program_name.astype('category')\n",
    "#     return curriculum_df"
   ]
  },
  {
   "cell_type": "code",
   "execution_count": 4,
   "id": "6ec63651",
   "metadata": {},
   "outputs": [
    {
     "data": {
      "text/html": [
       "<div>\n",
       "<style scoped>\n",
       "    .dataframe tbody tr th:only-of-type {\n",
       "        vertical-align: middle;\n",
       "    }\n",
       "\n",
       "    .dataframe tbody tr th {\n",
       "        vertical-align: top;\n",
       "    }\n",
       "\n",
       "    .dataframe thead th {\n",
       "        text-align: right;\n",
       "    }\n",
       "</style>\n",
       "<table border=\"1\" class=\"dataframe\">\n",
       "  <thead>\n",
       "    <tr style=\"text-align: right;\">\n",
       "      <th></th>\n",
       "      <th>page</th>\n",
       "      <th>id</th>\n",
       "      <th>ip</th>\n",
       "      <th>cohort_name</th>\n",
       "      <th>start_date</th>\n",
       "      <th>end_date</th>\n",
       "      <th>program_length</th>\n",
       "      <th>program_name</th>\n",
       "    </tr>\n",
       "    <tr>\n",
       "      <th>date</th>\n",
       "      <th></th>\n",
       "      <th></th>\n",
       "      <th></th>\n",
       "      <th></th>\n",
       "      <th></th>\n",
       "      <th></th>\n",
       "      <th></th>\n",
       "      <th></th>\n",
       "    </tr>\n",
       "  </thead>\n",
       "  <tbody>\n",
       "    <tr>\n",
       "      <th>2018-01-26 09:55:03</th>\n",
       "      <td>/</td>\n",
       "      <td>1</td>\n",
       "      <td>97.105.19.61</td>\n",
       "      <td>Hampton</td>\n",
       "      <td>2015-09-22</td>\n",
       "      <td>2016-02-06</td>\n",
       "      <td>137 days</td>\n",
       "      <td>full stack PHP</td>\n",
       "    </tr>\n",
       "    <tr>\n",
       "      <th>2018-01-26 09:56:02</th>\n",
       "      <td>java-ii</td>\n",
       "      <td>1</td>\n",
       "      <td>97.105.19.61</td>\n",
       "      <td>Hampton</td>\n",
       "      <td>2015-09-22</td>\n",
       "      <td>2016-02-06</td>\n",
       "      <td>137 days</td>\n",
       "      <td>full stack PHP</td>\n",
       "    </tr>\n",
       "    <tr>\n",
       "      <th>2018-01-26 09:56:05</th>\n",
       "      <td>java-ii/object-oriented-programming</td>\n",
       "      <td>1</td>\n",
       "      <td>97.105.19.61</td>\n",
       "      <td>Hampton</td>\n",
       "      <td>2015-09-22</td>\n",
       "      <td>2016-02-06</td>\n",
       "      <td>137 days</td>\n",
       "      <td>full stack PHP</td>\n",
       "    </tr>\n",
       "    <tr>\n",
       "      <th>2018-01-26 09:56:06</th>\n",
       "      <td>slides/object_oriented_programming</td>\n",
       "      <td>1</td>\n",
       "      <td>97.105.19.61</td>\n",
       "      <td>Hampton</td>\n",
       "      <td>2015-09-22</td>\n",
       "      <td>2016-02-06</td>\n",
       "      <td>137 days</td>\n",
       "      <td>full stack PHP</td>\n",
       "    </tr>\n",
       "    <tr>\n",
       "      <th>2018-01-26 09:56:24</th>\n",
       "      <td>javascript-i/conditionals</td>\n",
       "      <td>2</td>\n",
       "      <td>97.105.19.61</td>\n",
       "      <td>Teddy</td>\n",
       "      <td>2018-01-08</td>\n",
       "      <td>2018-05-17</td>\n",
       "      <td>129 days</td>\n",
       "      <td>full stack Java</td>\n",
       "    </tr>\n",
       "  </tbody>\n",
       "</table>\n",
       "</div>"
      ],
      "text/plain": [
       "                                                    page  id            ip  \\\n",
       "date                                                                         \n",
       "2018-01-26 09:55:03                                    /   1  97.105.19.61   \n",
       "2018-01-26 09:56:02                              java-ii   1  97.105.19.61   \n",
       "2018-01-26 09:56:05  java-ii/object-oriented-programming   1  97.105.19.61   \n",
       "2018-01-26 09:56:06   slides/object_oriented_programming   1  97.105.19.61   \n",
       "2018-01-26 09:56:24            javascript-i/conditionals   2  97.105.19.61   \n",
       "\n",
       "                    cohort_name start_date   end_date program_length  \\\n",
       "date                                                                   \n",
       "2018-01-26 09:55:03     Hampton 2015-09-22 2016-02-06       137 days   \n",
       "2018-01-26 09:56:02     Hampton 2015-09-22 2016-02-06       137 days   \n",
       "2018-01-26 09:56:05     Hampton 2015-09-22 2016-02-06       137 days   \n",
       "2018-01-26 09:56:06     Hampton 2015-09-22 2016-02-06       137 days   \n",
       "2018-01-26 09:56:24       Teddy 2018-01-08 2018-05-17       129 days   \n",
       "\n",
       "                        program_name  \n",
       "date                                  \n",
       "2018-01-26 09:55:03   full stack PHP  \n",
       "2018-01-26 09:56:02   full stack PHP  \n",
       "2018-01-26 09:56:05   full stack PHP  \n",
       "2018-01-26 09:56:06   full stack PHP  \n",
       "2018-01-26 09:56:24  full stack Java  "
      ]
     },
     "execution_count": 4,
     "metadata": {},
     "output_type": "execute_result"
    }
   ],
   "source": [
    "reload(a)\n",
    "curriculum_df = a.wrangle_curriculum_access()\n",
    "curriculum_df.head()"
   ]
  },
  {
   "cell_type": "code",
   "execution_count": 13,
   "id": "3232d738",
   "metadata": {},
   "outputs": [
    {
     "name": "stdout",
     "output_type": "stream",
     "text": [
      "<class 'pandas.core.frame.DataFrame'>\n",
      "DatetimeIndex: 900223 entries, 2018-01-26 09:55:03 to 2021-04-21 16:44:39\n",
      "Data columns (total 8 columns):\n",
      " #   Column          Non-Null Count   Dtype          \n",
      "---  ------          --------------   -----          \n",
      " 0   page            900222 non-null  object         \n",
      " 1   id              900223 non-null  int64          \n",
      " 2   ip              900223 non-null  object         \n",
      " 3   cohort_name     847330 non-null  object         \n",
      " 4   start_date      847330 non-null  datetime64[ns] \n",
      " 5   end_date        847330 non-null  datetime64[ns] \n",
      " 6   program_length  847330 non-null  timedelta64[ns]\n",
      " 7   program_name    847330 non-null  category       \n",
      "dtypes: category(1), datetime64[ns](2), int64(1), object(3), timedelta64[ns](1)\n",
      "memory usage: 55.8+ MB\n"
     ]
    }
   ],
   "source": [
    "curriculum_df.info()"
   ]
  },
  {
   "cell_type": "code",
   "execution_count": 2,
   "id": "2cc7020e",
   "metadata": {},
   "outputs": [],
   "source": [
    "# def acquire_cohorts():\n",
    "#     if isfile('cohorts.csv'):\n",
    "#         return pd.read_csv('cohorts.csv',index_col=[0])\n",
    "#     query = '''SELECT id AS cohort, name AS cohort_name , start_date, end_date, program_id FROM cohorts'''\n",
    "#     url = f'mysql+pymysql://{env.user}:{env.password}@{env.host}/curriculum_logs'\n",
    "#     df = pd.read_sql(query,url)\n",
    "#     df.index = df.cohort\n",
    "#     return df"
   ]
  },
  {
   "cell_type": "code",
   "execution_count": 3,
   "id": "6c340ea4",
   "metadata": {},
   "outputs": [
    {
     "ename": "NameError",
     "evalue": "name 'isfile' is not defined",
     "output_type": "error",
     "traceback": [
      "\u001b[0;31m---------------------------------------------------------------------------\u001b[0m",
      "\u001b[0;31mNameError\u001b[0m                                 Traceback (most recent call last)",
      "Input \u001b[0;32mIn [3]\u001b[0m, in \u001b[0;36m<cell line: 1>\u001b[0;34m()\u001b[0m\n\u001b[0;32m----> 1\u001b[0m df \u001b[38;5;241m=\u001b[39m \u001b[43macquire_cohorts\u001b[49m\u001b[43m(\u001b[49m\u001b[43m)\u001b[49m\n",
      "Input \u001b[0;32mIn [2]\u001b[0m, in \u001b[0;36macquire_cohorts\u001b[0;34m()\u001b[0m\n\u001b[1;32m      1\u001b[0m \u001b[38;5;28;01mdef\u001b[39;00m \u001b[38;5;21macquire_cohorts\u001b[39m():\n\u001b[0;32m----> 2\u001b[0m     \u001b[38;5;28;01mif\u001b[39;00m \u001b[43misfile\u001b[49m(\u001b[38;5;124m'\u001b[39m\u001b[38;5;124mcohorts.csv\u001b[39m\u001b[38;5;124m'\u001b[39m):\n\u001b[1;32m      3\u001b[0m         \u001b[38;5;28;01mreturn\u001b[39;00m pd\u001b[38;5;241m.\u001b[39mread_csv(\u001b[38;5;124m'\u001b[39m\u001b[38;5;124mcohorts.csv\u001b[39m\u001b[38;5;124m'\u001b[39m,index_col\u001b[38;5;241m=\u001b[39m[\u001b[38;5;241m0\u001b[39m])\n\u001b[1;32m      4\u001b[0m     query \u001b[38;5;241m=\u001b[39m \u001b[38;5;124m'''\u001b[39m\u001b[38;5;124mSELECT id AS cohort, name AS cohort_name , start_date, end_date, program_id FROM cohorts\u001b[39m\u001b[38;5;124m'''\u001b[39m\n",
      "\u001b[0;31mNameError\u001b[0m: name 'isfile' is not defined"
     ]
    }
   ],
   "source": [
    "# df = acquire_cohorts()"
   ]
  },
  {
   "cell_type": "code",
   "execution_count": 2,
   "id": "141a08bd",
   "metadata": {},
   "outputs": [],
   "source": [
    "# # Import .txt file and convert it to a DataFrame object\n",
    "# df = pd.read_table(\"anonymized-curriculum-access.txt\", sep = '\\s', header = None, \n",
    "#                    names = ['date', 'time', 'page', 'id', 'cohort', 'ip'])"
   ]
  },
  {
   "cell_type": "code",
   "execution_count": 3,
   "id": "813f71cd",
   "metadata": {},
   "outputs": [],
   "source": [
    "# def acquire_curriculum_data():\n",
    "#     #Get the data from text file on local repo\n",
    "#     df = pd.read_table(\"anonymized-curriculum-access.txt\", sep = '\\s', header = None, \n",
    "#                    names = ['date', 'time', 'page', 'id', 'cohort', 'ip'])\n",
    "#     return df"
   ]
  },
  {
   "cell_type": "code",
   "execution_count": 4,
   "id": "13d78c2f",
   "metadata": {},
   "outputs": [],
   "source": [
    "# df = acquire_curriculum_data()"
   ]
  },
  {
   "cell_type": "markdown",
   "id": "43b33065",
   "metadata": {},
   "source": [
    "### 3. Are there students who, when active, hardly access the curriculum? If so, what information do you have about these students?"
   ]
  },
  {
   "cell_type": "code",
   "execution_count": 5,
   "id": "e2552ee7",
   "metadata": {},
   "outputs": [
    {
     "data": {
      "text/plain": [
       "981"
      ]
     },
     "execution_count": 5,
     "metadata": {},
     "output_type": "execute_result"
    }
   ],
   "source": [
    "#Total Users\n",
    "curriculum_df.id.nunique()"
   ]
  },
  {
   "cell_type": "code",
   "execution_count": 6,
   "id": "478ad1d2",
   "metadata": {},
   "outputs": [
    {
     "data": {
      "text/plain": [
       "348    3\n",
       "176    3\n",
       "177    3\n",
       "852    2\n",
       "97     2\n",
       "573    2\n",
       "574    2\n",
       "649    1\n",
       "940    1\n",
       "165    1\n",
       "879    1\n",
       "652    1\n",
       "592    1\n",
       "619    1\n",
       "593    1\n",
       "66     1\n",
       "163    1\n",
       "918    1\n",
       "212    1\n",
       "952    1\n",
       "Name: id, dtype: int64"
      ]
     },
     "execution_count": 6,
     "metadata": {},
     "output_type": "execute_result"
    }
   ],
   "source": [
    "curriculum_df.id.value_counts().tail(20)"
   ]
  },
  {
   "cell_type": "code",
   "execution_count": 20,
   "id": "2bc5ce6d",
   "metadata": {},
   "outputs": [
    {
     "data": {
      "text/plain": [
       "5531"
      ]
     },
     "execution_count": 20,
     "metadata": {},
     "output_type": "execute_result"
    }
   ],
   "source": [
    "curriculum_df.ip.nunique()"
   ]
  },
  {
   "cell_type": "code",
   "execution_count": 25,
   "id": "fb1e72ab",
   "metadata": {},
   "outputs": [
    {
     "data": {
      "text/plain": [
       "97.105.19.58       284579\n",
       "97.105.19.61        61662\n",
       "192.171.117.210      9515\n",
       "71.150.217.33        6791\n",
       "76.185.145.231       4754\n",
       "                    ...  \n",
       "172.58.109.140          1\n",
       "99.203.213.59           1\n",
       "99.203.212.173          1\n",
       "173.239.198.246         1\n",
       "72.181.124.244          1\n",
       "Name: ip, Length: 5531, dtype: int64"
      ]
     },
     "execution_count": 25,
     "metadata": {},
     "output_type": "execute_result"
    }
   ],
   "source": [
    "curriculum_df.ip.value_counts()"
   ]
  },
  {
   "cell_type": "code",
   "execution_count": 29,
   "id": "a8bfef82",
   "metadata": {},
   "outputs": [
    {
     "data": {
      "text/plain": [
       "28.0     84031\n",
       "33.0     40730\n",
       "29.0     38096\n",
       "62.0     37109\n",
       "53.0     36902\n",
       "24.0     35636\n",
       "57.0     33844\n",
       "56.0     33568\n",
       "51.0     32888\n",
       "59.0     32015\n",
       "22.0     30926\n",
       "58.0     29855\n",
       "32.0     29356\n",
       "23.0     28534\n",
       "52.0     28033\n",
       "26.0     27749\n",
       "34.0     26538\n",
       "25.0     25586\n",
       "31.0     25359\n",
       "132.0    23691\n",
       "55.0     21582\n",
       "27.0     20743\n",
       "61.0     17713\n",
       "134.0    16623\n",
       "135.0    16397\n",
       "133.0    14715\n",
       "14.0      9587\n",
       "1.0       8890\n",
       "137.0     8562\n",
       "21.0      7444\n",
       "138.0     7276\n",
       "17.0      4954\n",
       "13.0      2845\n",
       "18.0      2158\n",
       "8.0       1712\n",
       "139.0     1672\n",
       "19.0      1237\n",
       "16.0       755\n",
       "15.0       691\n",
       "7.0        598\n",
       "12.0       302\n",
       "11.0       253\n",
       "2.0         93\n",
       "6.0         72\n",
       "9.0          5\n",
       "4.0          4\n",
       "5.0          1\n",
       "Name: cohort, dtype: int64"
      ]
     },
     "execution_count": 29,
     "metadata": {},
     "output_type": "execute_result"
    }
   ],
   "source": [
    "curriculum_df.cohort.value_counts()"
   ]
  },
  {
   "cell_type": "code",
   "execution_count": 32,
   "id": "95fa7fd6",
   "metadata": {},
   "outputs": [
    {
     "data": {
      "text/plain": [
       "date          0\n",
       "time          0\n",
       "page          1\n",
       "id            0\n",
       "cohort    52893\n",
       "ip            0\n",
       "dtype: int64"
      ]
     },
     "execution_count": 32,
     "metadata": {},
     "output_type": "execute_result"
    }
   ],
   "source": [
    "curriculum_df.isnull().sum()"
   ]
  },
  {
   "cell_type": "code",
   "execution_count": 8,
   "id": "ae711670",
   "metadata": {},
   "outputs": [
    {
     "name": "stdout",
     "output_type": "stream",
     "text": [
      "<class 'pandas.core.frame.DataFrame'>\n",
      "DatetimeIndex: 900223 entries, 2018-01-26 09:55:03 to 2021-04-21 16:44:39\n",
      "Data columns (total 8 columns):\n",
      " #   Column          Non-Null Count   Dtype          \n",
      "---  ------          --------------   -----          \n",
      " 0   page            900222 non-null  object         \n",
      " 1   id              900223 non-null  int64          \n",
      " 2   ip              900223 non-null  object         \n",
      " 3   cohort_name     847330 non-null  object         \n",
      " 4   start_date      847330 non-null  datetime64[ns] \n",
      " 5   end_date        847330 non-null  datetime64[ns] \n",
      " 6   program_length  847330 non-null  timedelta64[ns]\n",
      " 7   program_name    847330 non-null  category       \n",
      "dtypes: category(1), datetime64[ns](2), int64(1), object(3), timedelta64[ns](1)\n",
      "memory usage: 55.8+ MB\n"
     ]
    }
   ],
   "source": [
    "curriculum_df.info()"
   ]
  },
  {
   "cell_type": "code",
   "execution_count": 6,
   "id": "86fd4862",
   "metadata": {},
   "outputs": [],
   "source": [
    "# def acquire_cohort_logs(user=env.user, password=env.password, host=env.host):\n",
    "#     '''\n",
    "#     This function queries the Codeup MySQL curriculum_logs database and returns a dataframe\n",
    "#     '''\n",
    "#     url = f'mysql+pymysql://{env.user}:{env.password}@{env.host}/curriculum_logs'\n",
    "#     query = '''\n",
    "#     SELECT date, path as endpoint, user_id, cohort_id, name, start_date, end_date, ip as source_ip, program_id\n",
    "#         FROM logs l\n",
    "#         LEFT JOIN cohorts c ON l.cohort_id = c.id;\n",
    "#     '''\n",
    "#     df = pd.read_sql(query, url)\n",
    "#     #Save file to csv\n",
    "#     df.to_csv('cohort_logs.csv')\n",
    "#     return df"
   ]
  },
  {
   "cell_type": "code",
   "execution_count": 9,
   "id": "2854f2d8",
   "metadata": {},
   "outputs": [
    {
     "data": {
      "text/html": [
       "<div>\n",
       "<style scoped>\n",
       "    .dataframe tbody tr th:only-of-type {\n",
       "        vertical-align: middle;\n",
       "    }\n",
       "\n",
       "    .dataframe tbody tr th {\n",
       "        vertical-align: top;\n",
       "    }\n",
       "\n",
       "    .dataframe thead th {\n",
       "        text-align: right;\n",
       "    }\n",
       "</style>\n",
       "<table border=\"1\" class=\"dataframe\">\n",
       "  <thead>\n",
       "    <tr style=\"text-align: right;\">\n",
       "      <th></th>\n",
       "      <th>page</th>\n",
       "      <th>id</th>\n",
       "      <th>ip</th>\n",
       "      <th>cohort_name</th>\n",
       "      <th>start_date</th>\n",
       "      <th>end_date</th>\n",
       "      <th>program_length</th>\n",
       "      <th>program_name</th>\n",
       "    </tr>\n",
       "    <tr>\n",
       "      <th>date</th>\n",
       "      <th></th>\n",
       "      <th></th>\n",
       "      <th></th>\n",
       "      <th></th>\n",
       "      <th></th>\n",
       "      <th></th>\n",
       "      <th></th>\n",
       "      <th></th>\n",
       "    </tr>\n",
       "  </thead>\n",
       "  <tbody>\n",
       "    <tr>\n",
       "      <th>2018-01-26 09:55:03</th>\n",
       "      <td>/</td>\n",
       "      <td>1</td>\n",
       "      <td>97.105.19.61</td>\n",
       "      <td>Hampton</td>\n",
       "      <td>2015-09-22</td>\n",
       "      <td>2016-02-06</td>\n",
       "      <td>137 days</td>\n",
       "      <td>full stack PHP</td>\n",
       "    </tr>\n",
       "    <tr>\n",
       "      <th>2018-01-26 09:56:02</th>\n",
       "      <td>java-ii</td>\n",
       "      <td>1</td>\n",
       "      <td>97.105.19.61</td>\n",
       "      <td>Hampton</td>\n",
       "      <td>2015-09-22</td>\n",
       "      <td>2016-02-06</td>\n",
       "      <td>137 days</td>\n",
       "      <td>full stack PHP</td>\n",
       "    </tr>\n",
       "    <tr>\n",
       "      <th>2018-01-26 09:56:05</th>\n",
       "      <td>java-ii/object-oriented-programming</td>\n",
       "      <td>1</td>\n",
       "      <td>97.105.19.61</td>\n",
       "      <td>Hampton</td>\n",
       "      <td>2015-09-22</td>\n",
       "      <td>2016-02-06</td>\n",
       "      <td>137 days</td>\n",
       "      <td>full stack PHP</td>\n",
       "    </tr>\n",
       "    <tr>\n",
       "      <th>2018-01-26 09:56:06</th>\n",
       "      <td>slides/object_oriented_programming</td>\n",
       "      <td>1</td>\n",
       "      <td>97.105.19.61</td>\n",
       "      <td>Hampton</td>\n",
       "      <td>2015-09-22</td>\n",
       "      <td>2016-02-06</td>\n",
       "      <td>137 days</td>\n",
       "      <td>full stack PHP</td>\n",
       "    </tr>\n",
       "    <tr>\n",
       "      <th>2018-01-26 09:56:24</th>\n",
       "      <td>javascript-i/conditionals</td>\n",
       "      <td>2</td>\n",
       "      <td>97.105.19.61</td>\n",
       "      <td>Teddy</td>\n",
       "      <td>2018-01-08</td>\n",
       "      <td>2018-05-17</td>\n",
       "      <td>129 days</td>\n",
       "      <td>full stack Java</td>\n",
       "    </tr>\n",
       "  </tbody>\n",
       "</table>\n",
       "</div>"
      ],
      "text/plain": [
       "                                                    page  id            ip  \\\n",
       "date                                                                         \n",
       "2018-01-26 09:55:03                                    /   1  97.105.19.61   \n",
       "2018-01-26 09:56:02                              java-ii   1  97.105.19.61   \n",
       "2018-01-26 09:56:05  java-ii/object-oriented-programming   1  97.105.19.61   \n",
       "2018-01-26 09:56:06   slides/object_oriented_programming   1  97.105.19.61   \n",
       "2018-01-26 09:56:24            javascript-i/conditionals   2  97.105.19.61   \n",
       "\n",
       "                    cohort_name start_date   end_date program_length  \\\n",
       "date                                                                   \n",
       "2018-01-26 09:55:03     Hampton 2015-09-22 2016-02-06       137 days   \n",
       "2018-01-26 09:56:02     Hampton 2015-09-22 2016-02-06       137 days   \n",
       "2018-01-26 09:56:05     Hampton 2015-09-22 2016-02-06       137 days   \n",
       "2018-01-26 09:56:06     Hampton 2015-09-22 2016-02-06       137 days   \n",
       "2018-01-26 09:56:24       Teddy 2018-01-08 2018-05-17       129 days   \n",
       "\n",
       "                        program_name  \n",
       "date                                  \n",
       "2018-01-26 09:55:03   full stack PHP  \n",
       "2018-01-26 09:56:02   full stack PHP  \n",
       "2018-01-26 09:56:05   full stack PHP  \n",
       "2018-01-26 09:56:06   full stack PHP  \n",
       "2018-01-26 09:56:24  full stack Java  "
      ]
     },
     "execution_count": 9,
     "metadata": {},
     "output_type": "execute_result"
    }
   ],
   "source": [
    "#Taking all activity for students, not staff\n",
    "student_df = curriculum_df[curriculum_df.cohort_name != \"Staff\"]\n",
    "student_df.head()"
   ]
  },
  {
   "cell_type": "code",
   "execution_count": 11,
   "id": "54a38228",
   "metadata": {},
   "outputs": [
    {
     "data": {
      "text/html": [
       "<div>\n",
       "<style scoped>\n",
       "    .dataframe tbody tr th:only-of-type {\n",
       "        vertical-align: middle;\n",
       "    }\n",
       "\n",
       "    .dataframe tbody tr th {\n",
       "        vertical-align: top;\n",
       "    }\n",
       "\n",
       "    .dataframe thead th {\n",
       "        text-align: right;\n",
       "    }\n",
       "</style>\n",
       "<table border=\"1\" class=\"dataframe\">\n",
       "  <thead>\n",
       "    <tr style=\"text-align: right;\">\n",
       "      <th></th>\n",
       "      <th>page</th>\n",
       "      <th>id</th>\n",
       "      <th>ip</th>\n",
       "      <th>cohort_name</th>\n",
       "      <th>start_date</th>\n",
       "      <th>end_date</th>\n",
       "      <th>program_length</th>\n",
       "      <th>program_name</th>\n",
       "    </tr>\n",
       "    <tr>\n",
       "      <th>date</th>\n",
       "      <th></th>\n",
       "      <th></th>\n",
       "      <th></th>\n",
       "      <th></th>\n",
       "      <th></th>\n",
       "      <th></th>\n",
       "      <th></th>\n",
       "      <th></th>\n",
       "    </tr>\n",
       "  </thead>\n",
       "  <tbody>\n",
       "    <tr>\n",
       "      <th>2018-01-26 09:56:24</th>\n",
       "      <td>javascript-i/conditionals</td>\n",
       "      <td>2</td>\n",
       "      <td>97.105.19.61</td>\n",
       "      <td>Teddy</td>\n",
       "      <td>2018-01-08</td>\n",
       "      <td>2018-05-17</td>\n",
       "      <td>129 days</td>\n",
       "      <td>full stack Java</td>\n",
       "    </tr>\n",
       "    <tr>\n",
       "      <th>2018-01-26 09:56:41</th>\n",
       "      <td>javascript-i/loops</td>\n",
       "      <td>2</td>\n",
       "      <td>97.105.19.61</td>\n",
       "      <td>Teddy</td>\n",
       "      <td>2018-01-08</td>\n",
       "      <td>2018-05-17</td>\n",
       "      <td>129 days</td>\n",
       "      <td>full stack Java</td>\n",
       "    </tr>\n",
       "    <tr>\n",
       "      <th>2018-01-26 09:56:46</th>\n",
       "      <td>javascript-i/conditionals</td>\n",
       "      <td>3</td>\n",
       "      <td>97.105.19.61</td>\n",
       "      <td>Teddy</td>\n",
       "      <td>2018-01-08</td>\n",
       "      <td>2018-05-17</td>\n",
       "      <td>129 days</td>\n",
       "      <td>full stack Java</td>\n",
       "    </tr>\n",
       "    <tr>\n",
       "      <th>2018-01-26 09:56:48</th>\n",
       "      <td>javascript-i/functions</td>\n",
       "      <td>3</td>\n",
       "      <td>97.105.19.61</td>\n",
       "      <td>Teddy</td>\n",
       "      <td>2018-01-08</td>\n",
       "      <td>2018-05-17</td>\n",
       "      <td>129 days</td>\n",
       "      <td>full stack Java</td>\n",
       "    </tr>\n",
       "    <tr>\n",
       "      <th>2018-01-26 09:56:59</th>\n",
       "      <td>javascript-i/loops</td>\n",
       "      <td>2</td>\n",
       "      <td>97.105.19.61</td>\n",
       "      <td>Teddy</td>\n",
       "      <td>2018-01-08</td>\n",
       "      <td>2018-05-17</td>\n",
       "      <td>129 days</td>\n",
       "      <td>full stack Java</td>\n",
       "    </tr>\n",
       "  </tbody>\n",
       "</table>\n",
       "</div>"
      ],
      "text/plain": [
       "                                          page  id            ip cohort_name  \\\n",
       "date                                                                           \n",
       "2018-01-26 09:56:24  javascript-i/conditionals   2  97.105.19.61       Teddy   \n",
       "2018-01-26 09:56:41         javascript-i/loops   2  97.105.19.61       Teddy   \n",
       "2018-01-26 09:56:46  javascript-i/conditionals   3  97.105.19.61       Teddy   \n",
       "2018-01-26 09:56:48     javascript-i/functions   3  97.105.19.61       Teddy   \n",
       "2018-01-26 09:56:59         javascript-i/loops   2  97.105.19.61       Teddy   \n",
       "\n",
       "                    start_date   end_date program_length     program_name  \n",
       "date                                                                       \n",
       "2018-01-26 09:56:24 2018-01-08 2018-05-17       129 days  full stack Java  \n",
       "2018-01-26 09:56:41 2018-01-08 2018-05-17       129 days  full stack Java  \n",
       "2018-01-26 09:56:46 2018-01-08 2018-05-17       129 days  full stack Java  \n",
       "2018-01-26 09:56:48 2018-01-08 2018-05-17       129 days  full stack Java  \n",
       "2018-01-26 09:56:59 2018-01-08 2018-05-17       129 days  full stack Java  "
      ]
     },
     "execution_count": 11,
     "metadata": {},
     "output_type": "execute_result"
    }
   ],
   "source": [
    "#Taking all activity from students active in course(from start date to end date)\n",
    "active_df = student_df[(student_df.end_date >= student_df.index) & (student_df.start_date <= student_df.index)]\n",
    "active_df = active_df[active_df['page'] != '/']\n",
    "active_df.head()"
   ]
  },
  {
   "cell_type": "code",
   "execution_count": 12,
   "id": "a8bd5b54",
   "metadata": {},
   "outputs": [
    {
     "name": "stdout",
     "output_type": "stream",
     "text": [
      "<class 'pandas.core.frame.DataFrame'>\n",
      "DatetimeIndex: 616912 entries, 2018-01-26 09:56:24 to 2021-04-21 16:41:51\n",
      "Data columns (total 8 columns):\n",
      " #   Column          Non-Null Count   Dtype          \n",
      "---  ------          --------------   -----          \n",
      " 0   page            616911 non-null  object         \n",
      " 1   id              616912 non-null  int64          \n",
      " 2   ip              616912 non-null  object         \n",
      " 3   cohort_name     616912 non-null  object         \n",
      " 4   start_date      616912 non-null  datetime64[ns] \n",
      " 5   end_date        616912 non-null  datetime64[ns] \n",
      " 6   program_length  616912 non-null  timedelta64[ns]\n",
      " 7   program_name    616912 non-null  category       \n",
      "dtypes: category(1), datetime64[ns](2), int64(1), object(3), timedelta64[ns](1)\n",
      "memory usage: 38.2+ MB\n"
     ]
    }
   ],
   "source": [
    "#617k active student log entries\n",
    "active_df.info()"
   ]
  },
  {
   "cell_type": "code",
   "execution_count": 13,
   "id": "2b17e696",
   "metadata": {},
   "outputs": [
    {
     "data": {
      "text/plain": [
       "user_id  endpoint                                        \n",
       "2        java-iii                                            50\n",
       "         mysql                                               32\n",
       "         java-ii                                             30\n",
       "         spring                                              29\n",
       "         jquery                                              28\n",
       "                                                             ..\n",
       "981      examples/css/bootstrap-grids.html                    3\n",
       "         appendix/professional-development/t-block-resume     1\n",
       "         examples/bootstrap-grid/assets.zip                   1\n",
       "         html-css/css-ii                                      1\n",
       "         javascript-ii                                        1\n",
       "Name: endpoint, Length: 88202, dtype: int64"
      ]
     },
     "execution_count": 13,
     "metadata": {},
     "output_type": "execute_result"
    }
   ],
   "source": [
    "#Aggregating pages by student\n",
    "pages_by_student = active_df.groupby(['user_id'])['endpoint'].value_counts()\n",
    "pages_by_student"
   ]
  },
  {
   "cell_type": "code",
   "execution_count": 14,
   "id": "0f431de5",
   "metadata": {},
   "outputs": [
    {
     "data": {
      "text/html": [
       "<div>\n",
       "<style scoped>\n",
       "    .dataframe tbody tr th:only-of-type {\n",
       "        vertical-align: middle;\n",
       "    }\n",
       "\n",
       "    .dataframe tbody tr th {\n",
       "        vertical-align: top;\n",
       "    }\n",
       "\n",
       "    .dataframe thead th {\n",
       "        text-align: right;\n",
       "    }\n",
       "</style>\n",
       "<table border=\"1\" class=\"dataframe\">\n",
       "  <thead>\n",
       "    <tr style=\"text-align: right;\">\n",
       "      <th></th>\n",
       "      <th></th>\n",
       "      <th>endpoint</th>\n",
       "    </tr>\n",
       "    <tr>\n",
       "      <th>user_id</th>\n",
       "      <th>endpoint</th>\n",
       "      <th></th>\n",
       "    </tr>\n",
       "  </thead>\n",
       "  <tbody>\n",
       "    <tr>\n",
       "      <th rowspan=\"5\" valign=\"top\">2</th>\n",
       "      <th>java-iii</th>\n",
       "      <td>50</td>\n",
       "    </tr>\n",
       "    <tr>\n",
       "      <th>mysql</th>\n",
       "      <td>32</td>\n",
       "    </tr>\n",
       "    <tr>\n",
       "      <th>java-ii</th>\n",
       "      <td>30</td>\n",
       "    </tr>\n",
       "    <tr>\n",
       "      <th>spring</th>\n",
       "      <td>29</td>\n",
       "    </tr>\n",
       "    <tr>\n",
       "      <th>jquery</th>\n",
       "      <td>28</td>\n",
       "    </tr>\n",
       "  </tbody>\n",
       "</table>\n",
       "</div>"
      ],
      "text/plain": [
       "                  endpoint\n",
       "user_id endpoint          \n",
       "2       java-iii        50\n",
       "        mysql           32\n",
       "        java-ii         30\n",
       "        spring          29\n",
       "        jquery          28"
      ]
     },
     "execution_count": 14,
     "metadata": {},
     "output_type": "execute_result"
    }
   ],
   "source": [
    "#make a df\n",
    "pages_by_student =pd.DataFrame(pages_by_student)\n",
    "pages_by_student.head()"
   ]
  },
  {
   "cell_type": "code",
   "execution_count": 15,
   "id": "f65ae89b",
   "metadata": {},
   "outputs": [
    {
     "name": "stdout",
     "output_type": "stream",
     "text": [
      "<class 'pandas.core.frame.DataFrame'>\n",
      "MultiIndex: 88202 entries, (2, 'java-iii') to (981, 'javascript-ii')\n",
      "Data columns (total 1 columns):\n",
      " #   Column    Non-Null Count  Dtype\n",
      "---  ------    --------------  -----\n",
      " 0   endpoint  88202 non-null  int64\n",
      "dtypes: int64(1)\n",
      "memory usage: 1.0+ MB\n"
     ]
    }
   ],
   "source": [
    "pages_by_student.info()"
   ]
  },
  {
   "cell_type": "code",
   "execution_count": 20,
   "id": "4970cddf",
   "metadata": {},
   "outputs": [
    {
     "data": {
      "text/html": [
       "<div>\n",
       "<style scoped>\n",
       "    .dataframe tbody tr th:only-of-type {\n",
       "        vertical-align: middle;\n",
       "    }\n",
       "\n",
       "    .dataframe tbody tr th {\n",
       "        vertical-align: top;\n",
       "    }\n",
       "\n",
       "    .dataframe thead th {\n",
       "        text-align: right;\n",
       "    }\n",
       "</style>\n",
       "<table border=\"1\" class=\"dataframe\">\n",
       "  <thead>\n",
       "    <tr style=\"text-align: right;\">\n",
       "      <th></th>\n",
       "      <th>endpoint_count</th>\n",
       "    </tr>\n",
       "    <tr>\n",
       "      <th>user_id</th>\n",
       "      <th></th>\n",
       "    </tr>\n",
       "  </thead>\n",
       "  <tbody>\n",
       "    <tr>\n",
       "      <th>832</th>\n",
       "      <td>2</td>\n",
       "    </tr>\n",
       "    <tr>\n",
       "      <th>278</th>\n",
       "      <td>3</td>\n",
       "    </tr>\n",
       "    <tr>\n",
       "      <th>539</th>\n",
       "      <td>4</td>\n",
       "    </tr>\n",
       "    <tr>\n",
       "      <th>956</th>\n",
       "      <td>4</td>\n",
       "    </tr>\n",
       "    <tr>\n",
       "      <th>388</th>\n",
       "      <td>7</td>\n",
       "    </tr>\n",
       "  </tbody>\n",
       "</table>\n",
       "</div>"
      ],
      "text/plain": [
       "         endpoint_count\n",
       "user_id                \n",
       "832                   2\n",
       "278                   3\n",
       "539                   4\n",
       "956                   4\n",
       "388                   7"
      ]
     },
     "execution_count": 20,
     "metadata": {},
     "output_type": "execute_result"
    }
   ],
   "source": [
    "pages_by_student.columns = ['endpoint_count']\n",
    "pages_by_student = pages_by_student.reset_index()\n",
    "pages_by_student = pages_by_student.groupby('user_id').sum('endpoint_count')\n",
    "pages_by_student.nsmallest(n=5, columns='endpoint_count')"
   ]
  },
  {
   "cell_type": "code",
   "execution_count": 32,
   "id": "07e310a9",
   "metadata": {},
   "outputs": [
    {
     "data": {
      "text/plain": [
       "javascript-i    1\n",
       "html-css        1\n",
       "Name: endpoint, dtype: int64"
      ]
     },
     "execution_count": 32,
     "metadata": {},
     "output_type": "execute_result"
    }
   ],
   "source": [
    "#Looking at 832, Very little activity, in the middle of the course too, full stack Java Jupiter\n",
    "user_832 = active_df[active_df.user_id == 832]\n",
    "user_832.endpoint.value_counts()"
   ]
  },
  {
   "cell_type": "code",
   "execution_count": 33,
   "id": "c44792ca",
   "metadata": {},
   "outputs": [
    {
     "data": {
      "text/plain": [
       "java-ii/arrays         2\n",
       "java-ii/collections    1\n",
       "Name: endpoint, dtype: int64"
      ]
     },
     "execution_count": 33,
     "metadata": {},
     "output_type": "execute_result"
    }
   ],
   "source": [
    "#Looking at 278, More Activity, more diverse page views, over a larger period of time\n",
    "user_278 = active_df[active_df.user_id == 278]\n",
    "user_278.endpoint.value_counts()"
   ]
  },
  {
   "cell_type": "code",
   "execution_count": 34,
   "id": "03d6a449",
   "metadata": {},
   "outputs": [
    {
     "data": {
      "text/html": [
       "<div>\n",
       "<style scoped>\n",
       "    .dataframe tbody tr th:only-of-type {\n",
       "        vertical-align: middle;\n",
       "    }\n",
       "\n",
       "    .dataframe tbody tr th {\n",
       "        vertical-align: top;\n",
       "    }\n",
       "\n",
       "    .dataframe thead th {\n",
       "        text-align: right;\n",
       "    }\n",
       "</style>\n",
       "<table border=\"1\" class=\"dataframe\">\n",
       "  <thead>\n",
       "    <tr style=\"text-align: right;\">\n",
       "      <th></th>\n",
       "      <th>date</th>\n",
       "      <th>endpoint</th>\n",
       "      <th>user_id</th>\n",
       "      <th>cohort_id</th>\n",
       "      <th>name</th>\n",
       "      <th>start_date</th>\n",
       "      <th>end_date</th>\n",
       "      <th>source_ip</th>\n",
       "      <th>program_id</th>\n",
       "      <th>program_length</th>\n",
       "      <th>program_name</th>\n",
       "    </tr>\n",
       "    <tr>\n",
       "      <th>date</th>\n",
       "      <th></th>\n",
       "      <th></th>\n",
       "      <th></th>\n",
       "      <th></th>\n",
       "      <th></th>\n",
       "      <th></th>\n",
       "      <th></th>\n",
       "      <th></th>\n",
       "      <th></th>\n",
       "      <th></th>\n",
       "      <th></th>\n",
       "    </tr>\n",
       "  </thead>\n",
       "  <tbody>\n",
       "    <tr>\n",
       "      <th>2018-09-27</th>\n",
       "      <td>2018-09-27</td>\n",
       "      <td>java-ii/arrays</td>\n",
       "      <td>278</td>\n",
       "      <td>24.0</td>\n",
       "      <td>Voyageurs</td>\n",
       "      <td>2018-05-29</td>\n",
       "      <td>2018-10-11</td>\n",
       "      <td>107.77.217.9</td>\n",
       "      <td>2.0</td>\n",
       "      <td>135 days</td>\n",
       "      <td>full stack Java</td>\n",
       "    </tr>\n",
       "    <tr>\n",
       "      <th>2018-09-27</th>\n",
       "      <td>2018-09-27</td>\n",
       "      <td>java-ii/arrays</td>\n",
       "      <td>278</td>\n",
       "      <td>24.0</td>\n",
       "      <td>Voyageurs</td>\n",
       "      <td>2018-05-29</td>\n",
       "      <td>2018-10-11</td>\n",
       "      <td>107.77.217.9</td>\n",
       "      <td>2.0</td>\n",
       "      <td>135 days</td>\n",
       "      <td>full stack Java</td>\n",
       "    </tr>\n",
       "    <tr>\n",
       "      <th>2018-09-27</th>\n",
       "      <td>2018-09-27</td>\n",
       "      <td>java-ii/collections</td>\n",
       "      <td>278</td>\n",
       "      <td>24.0</td>\n",
       "      <td>Voyageurs</td>\n",
       "      <td>2018-05-29</td>\n",
       "      <td>2018-10-11</td>\n",
       "      <td>107.77.217.9</td>\n",
       "      <td>2.0</td>\n",
       "      <td>135 days</td>\n",
       "      <td>full stack Java</td>\n",
       "    </tr>\n",
       "  </tbody>\n",
       "</table>\n",
       "</div>"
      ],
      "text/plain": [
       "                 date             endpoint  user_id  cohort_id       name  \\\n",
       "date                                                                        \n",
       "2018-09-27 2018-09-27       java-ii/arrays      278       24.0  Voyageurs   \n",
       "2018-09-27 2018-09-27       java-ii/arrays      278       24.0  Voyageurs   \n",
       "2018-09-27 2018-09-27  java-ii/collections      278       24.0  Voyageurs   \n",
       "\n",
       "           start_date   end_date     source_ip program_id program_length  \\\n",
       "date                                                                       \n",
       "2018-09-27 2018-05-29 2018-10-11  107.77.217.9        2.0       135 days   \n",
       "2018-09-27 2018-05-29 2018-10-11  107.77.217.9        2.0       135 days   \n",
       "2018-09-27 2018-05-29 2018-10-11  107.77.217.9        2.0       135 days   \n",
       "\n",
       "               program_name  \n",
       "date                         \n",
       "2018-09-27  full stack Java  \n",
       "2018-09-27  full stack Java  \n",
       "2018-09-27  full stack Java  "
      ]
     },
     "execution_count": 34,
     "metadata": {},
     "output_type": "execute_result"
    }
   ],
   "source": [
    "user_278"
   ]
  },
  {
   "cell_type": "code",
   "execution_count": 35,
   "id": "108b8057",
   "metadata": {},
   "outputs": [
    {
     "data": {
      "text/plain": [
       "toc                      1\n",
       "html-css                 1\n",
       "html-css/introduction    1\n",
       "html-css/elements        1\n",
       "Name: endpoint, dtype: int64"
      ]
     },
     "execution_count": 35,
     "metadata": {},
     "output_type": "execute_result"
    }
   ],
   "source": [
    "#Looking at 539, looking at \n",
    "user_539 = active_df[active_df.user_id == 539]\n",
    "user_539.endpoint.value_counts()"
   ]
  },
  {
   "cell_type": "code",
   "execution_count": 36,
   "id": "912bc56f",
   "metadata": {},
   "outputs": [
    {
     "data": {
      "text/html": [
       "<div>\n",
       "<style scoped>\n",
       "    .dataframe tbody tr th:only-of-type {\n",
       "        vertical-align: middle;\n",
       "    }\n",
       "\n",
       "    .dataframe tbody tr th {\n",
       "        vertical-align: top;\n",
       "    }\n",
       "\n",
       "    .dataframe thead th {\n",
       "        text-align: right;\n",
       "    }\n",
       "</style>\n",
       "<table border=\"1\" class=\"dataframe\">\n",
       "  <thead>\n",
       "    <tr style=\"text-align: right;\">\n",
       "      <th></th>\n",
       "      <th>date</th>\n",
       "      <th>endpoint</th>\n",
       "      <th>user_id</th>\n",
       "      <th>cohort_id</th>\n",
       "      <th>name</th>\n",
       "      <th>start_date</th>\n",
       "      <th>end_date</th>\n",
       "      <th>source_ip</th>\n",
       "      <th>program_id</th>\n",
       "      <th>program_length</th>\n",
       "      <th>program_name</th>\n",
       "    </tr>\n",
       "    <tr>\n",
       "      <th>date</th>\n",
       "      <th></th>\n",
       "      <th></th>\n",
       "      <th></th>\n",
       "      <th></th>\n",
       "      <th></th>\n",
       "      <th></th>\n",
       "      <th></th>\n",
       "      <th></th>\n",
       "      <th></th>\n",
       "      <th></th>\n",
       "      <th></th>\n",
       "    </tr>\n",
       "  </thead>\n",
       "  <tbody>\n",
       "    <tr>\n",
       "      <th>2019-11-04</th>\n",
       "      <td>2019-11-04</td>\n",
       "      <td>toc</td>\n",
       "      <td>539</td>\n",
       "      <td>52.0</td>\n",
       "      <td>Europa</td>\n",
       "      <td>2019-11-04</td>\n",
       "      <td>2020-04-17</td>\n",
       "      <td>97.105.19.58</td>\n",
       "      <td>2.0</td>\n",
       "      <td>165 days</td>\n",
       "      <td>full stack Java</td>\n",
       "    </tr>\n",
       "    <tr>\n",
       "      <th>2019-11-04</th>\n",
       "      <td>2019-11-04</td>\n",
       "      <td>html-css</td>\n",
       "      <td>539</td>\n",
       "      <td>52.0</td>\n",
       "      <td>Europa</td>\n",
       "      <td>2019-11-04</td>\n",
       "      <td>2020-04-17</td>\n",
       "      <td>97.105.19.58</td>\n",
       "      <td>2.0</td>\n",
       "      <td>165 days</td>\n",
       "      <td>full stack Java</td>\n",
       "    </tr>\n",
       "    <tr>\n",
       "      <th>2019-11-04</th>\n",
       "      <td>2019-11-04</td>\n",
       "      <td>html-css/introduction</td>\n",
       "      <td>539</td>\n",
       "      <td>52.0</td>\n",
       "      <td>Europa</td>\n",
       "      <td>2019-11-04</td>\n",
       "      <td>2020-04-17</td>\n",
       "      <td>97.105.19.58</td>\n",
       "      <td>2.0</td>\n",
       "      <td>165 days</td>\n",
       "      <td>full stack Java</td>\n",
       "    </tr>\n",
       "    <tr>\n",
       "      <th>2019-11-04</th>\n",
       "      <td>2019-11-04</td>\n",
       "      <td>html-css/elements</td>\n",
       "      <td>539</td>\n",
       "      <td>52.0</td>\n",
       "      <td>Europa</td>\n",
       "      <td>2019-11-04</td>\n",
       "      <td>2020-04-17</td>\n",
       "      <td>97.105.19.58</td>\n",
       "      <td>2.0</td>\n",
       "      <td>165 days</td>\n",
       "      <td>full stack Java</td>\n",
       "    </tr>\n",
       "  </tbody>\n",
       "</table>\n",
       "</div>"
      ],
      "text/plain": [
       "                 date               endpoint  user_id  cohort_id    name  \\\n",
       "date                                                                       \n",
       "2019-11-04 2019-11-04                    toc      539       52.0  Europa   \n",
       "2019-11-04 2019-11-04               html-css      539       52.0  Europa   \n",
       "2019-11-04 2019-11-04  html-css/introduction      539       52.0  Europa   \n",
       "2019-11-04 2019-11-04      html-css/elements      539       52.0  Europa   \n",
       "\n",
       "           start_date   end_date     source_ip program_id program_length  \\\n",
       "date                                                                       \n",
       "2019-11-04 2019-11-04 2020-04-17  97.105.19.58        2.0       165 days   \n",
       "2019-11-04 2019-11-04 2020-04-17  97.105.19.58        2.0       165 days   \n",
       "2019-11-04 2019-11-04 2020-04-17  97.105.19.58        2.0       165 days   \n",
       "2019-11-04 2019-11-04 2020-04-17  97.105.19.58        2.0       165 days   \n",
       "\n",
       "               program_name  \n",
       "date                         \n",
       "2019-11-04  full stack Java  \n",
       "2019-11-04  full stack Java  \n",
       "2019-11-04  full stack Java  \n",
       "2019-11-04  full stack Java  "
      ]
     },
     "execution_count": 36,
     "metadata": {},
     "output_type": "execute_result"
    }
   ],
   "source": [
    "user_539"
   ]
  },
  {
   "cell_type": "code",
   "execution_count": null,
   "id": "259c97b4",
   "metadata": {},
   "outputs": [],
   "source": []
  }
 ],
 "metadata": {
  "kernelspec": {
   "display_name": "Python 3 (ipykernel)",
   "language": "python",
   "name": "python3"
  },
  "language_info": {
   "codemirror_mode": {
    "name": "ipython",
    "version": 3
   },
   "file_extension": ".py",
   "mimetype": "text/x-python",
   "name": "python",
   "nbconvert_exporter": "python",
   "pygments_lexer": "ipython3",
   "version": "3.9.12"
  }
 },
 "nbformat": 4,
 "nbformat_minor": 5
}
