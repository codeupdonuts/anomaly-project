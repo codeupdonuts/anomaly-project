{
 "cells": [
  {
   "cell_type": "code",
   "execution_count": 1,
   "id": "5a883698",
   "metadata": {},
   "outputs": [],
   "source": [
    "import warnings\n",
    "warnings.filterwarnings(\"ignore\")\n",
    "import matplotlib.pyplot as plt\n",
    "import seaborn as sns\n",
    "import numpy as np\n",
    "import pandas as pd\n",
    "import env\n",
    "import acquire as a\n",
    "from os.path import isfile\n",
    "from importlib import reload"
   ]
  },
  {
   "cell_type": "markdown",
   "id": "9fceaa51",
   "metadata": {},
   "source": [
    "### Questions:\n",
    "\n",
    "* 1. Which lesson appears to attract the most traffic consistently across cohorts (per program)?\n",
    "* 2. Is there a cohort that referred to a lesson significantly more than other cohorts seemed to gloss over?\n",
    "* 3. Are there students who, when active, hardly access the curriculum? If so, what information do you have about these students?\n",
    "* 4. Is there any suspicious activity, such as users/machines/etc accessing the curriculum who shouldn’t be? Does it appear that any web-scraping is happening? Are there any suspicious IP addresses?\n",
    "* 5. At some point in 2019, the ability for students and alumni to access both curriculums (web dev to ds, ds to web dev) should have been shut off. Do you see any evidence of that happening? Did it happen before?\n",
    "* 6. What topics are grads continuing to reference after graduation and into their jobs (for each program)?\n",
    "* 7. Which lessons are least accessed?"
   ]
  },
  {
   "cell_type": "code",
   "execution_count": null,
   "id": "fccbc744",
   "metadata": {},
   "outputs": [],
   "source": []
  }
 ],
 "metadata": {
  "kernelspec": {
   "display_name": "Python 3 (ipykernel)",
   "language": "python",
   "name": "python3"
  },
  "language_info": {
   "codemirror_mode": {
    "name": "ipython",
    "version": 3
   },
   "file_extension": ".py",
   "mimetype": "text/x-python",
   "name": "python",
   "nbconvert_exporter": "python",
   "pygments_lexer": "ipython3",
   "version": "3.9.12"
  }
 },
 "nbformat": 4,
 "nbformat_minor": 5
}
