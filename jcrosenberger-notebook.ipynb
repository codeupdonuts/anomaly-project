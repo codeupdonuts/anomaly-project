{
 "cells": [
  {
   "cell_type": "markdown",
   "id": "5f535139-3255-474b-b16a-45b8ec959d0a",
   "metadata": {},
   "source": [
    "1. Which lesson appears to attract the most traffic consistently across cohorts (per program)?\n",
    "2. Is there a cohort that referred to a lesson significantly more than other cohorts seemed to gloss over?\n",
    "3. Are there students who, when active, hardly access the curriculum? If so, what information do you have about these students?\n",
    "4. Is there any suspicious activity, such as users/machines/etc accessing the curriculum who shouldn’t be? Does it appear that any web-scraping is happening? Are there any suspicious IP addresses?\n",
    "5. At some point in 2019, the ability for students and alumni to access both curriculums (web dev to ds, ds to web dev) should have been shut off. Do you see any evidence of that happening? Did it happen before?\n",
    "6. What topics are grads continuing to reference after graduation and into their jobs (for each program)?\n",
    "7. Which lessons are least accessed?\n",
    "8. Anything else I should be aware of?\n",
    "\n",
    "\n",
    "#### I am focusing on questions 1, 2, 7"
   ]
  },
  {
   "cell_type": "code",
   "execution_count": 1,
   "id": "dae53727-5733-44b1-af8d-23050e16635d",
   "metadata": {},
   "outputs": [],
   "source": [
    "import warnings\n",
    "warnings.filterwarnings(\"ignore\")\n",
    "import matplotlib.pyplot as plt\n",
    "import seaborn as sns\n",
    "import numpy as np\n",
    "import pandas as pd\n",
    "\n",
    "# DBSCAN import\n",
    "from sklearn.cluster import DBSCAN\n",
    "# Scaler import\n",
    "from sklearn.preprocessing import MinMaxScaler\n",
    "\n",
    "import acquire as ac\n",
    "import acquire2 as ac2\n",
    "from importlib import reload\n"
   ]
  },
  {
   "cell_type": "code",
   "execution_count": 28,
   "id": "fff90669-7899-444e-89df-c35cc89137df",
   "metadata": {},
   "outputs": [
    {
     "data": {
      "text/plain": [
       "<module 'acquire2' from '/Users/CryanRedrose/codeup-data-science/CodeUp/anomaly-project/acquire2.py'>"
      ]
     },
     "execution_count": 28,
     "metadata": {},
     "output_type": "execute_result"
    }
   ],
   "source": [
    "reload(ac2)"
   ]
  },
  {
   "cell_type": "code",
   "execution_count": 29,
   "id": "cbe9ae25-da00-4db5-be9e-2c6fd88db6eb",
   "metadata": {},
   "outputs": [
    {
     "data": {
      "text/html": [
       "<div>\n",
       "<style scoped>\n",
       "    .dataframe tbody tr th:only-of-type {\n",
       "        vertical-align: middle;\n",
       "    }\n",
       "\n",
       "    .dataframe tbody tr th {\n",
       "        vertical-align: top;\n",
       "    }\n",
       "\n",
       "    .dataframe thead th {\n",
       "        text-align: right;\n",
       "    }\n",
       "</style>\n",
       "<table border=\"1\" class=\"dataframe\">\n",
       "  <thead>\n",
       "    <tr style=\"text-align: right;\">\n",
       "      <th></th>\n",
       "      <th>date</th>\n",
       "      <th>access_time</th>\n",
       "      <th>endpoint</th>\n",
       "      <th>user_id</th>\n",
       "      <th>cohort_id</th>\n",
       "      <th>ip_source</th>\n",
       "      <th>cohort_name</th>\n",
       "      <th>handle</th>\n",
       "      <th>program_start</th>\n",
       "      <th>program_end</th>\n",
       "      <th>program</th>\n",
       "    </tr>\n",
       "  </thead>\n",
       "  <tbody>\n",
       "    <tr>\n",
       "      <th>2018-01-26</th>\n",
       "      <td>2018-01-26</td>\n",
       "      <td>09:55:03</td>\n",
       "      <td>/</td>\n",
       "      <td>1</td>\n",
       "      <td>8.0</td>\n",
       "      <td>97.105.19.61</td>\n",
       "      <td>Hampton</td>\n",
       "      <td>#hampton</td>\n",
       "      <td>2015-09-22</td>\n",
       "      <td>2016-02-06</td>\n",
       "      <td>php</td>\n",
       "    </tr>\n",
       "    <tr>\n",
       "      <th>2018-01-26</th>\n",
       "      <td>2018-01-26</td>\n",
       "      <td>09:56:02</td>\n",
       "      <td>java-ii</td>\n",
       "      <td>1</td>\n",
       "      <td>8.0</td>\n",
       "      <td>97.105.19.61</td>\n",
       "      <td>Hampton</td>\n",
       "      <td>#hampton</td>\n",
       "      <td>2015-09-22</td>\n",
       "      <td>2016-02-06</td>\n",
       "      <td>php</td>\n",
       "    </tr>\n",
       "    <tr>\n",
       "      <th>2018-01-26</th>\n",
       "      <td>2018-01-26</td>\n",
       "      <td>09:56:05</td>\n",
       "      <td>java-ii/object-oriented-programming</td>\n",
       "      <td>1</td>\n",
       "      <td>8.0</td>\n",
       "      <td>97.105.19.61</td>\n",
       "      <td>Hampton</td>\n",
       "      <td>#hampton</td>\n",
       "      <td>2015-09-22</td>\n",
       "      <td>2016-02-06</td>\n",
       "      <td>php</td>\n",
       "    </tr>\n",
       "    <tr>\n",
       "      <th>2018-01-26</th>\n",
       "      <td>2018-01-26</td>\n",
       "      <td>09:56:06</td>\n",
       "      <td>slides/object_oriented_programming</td>\n",
       "      <td>1</td>\n",
       "      <td>8.0</td>\n",
       "      <td>97.105.19.61</td>\n",
       "      <td>Hampton</td>\n",
       "      <td>#hampton</td>\n",
       "      <td>2015-09-22</td>\n",
       "      <td>2016-02-06</td>\n",
       "      <td>php</td>\n",
       "    </tr>\n",
       "    <tr>\n",
       "      <th>2018-01-26</th>\n",
       "      <td>2018-01-26</td>\n",
       "      <td>09:56:24</td>\n",
       "      <td>javascript-i/conditionals</td>\n",
       "      <td>2</td>\n",
       "      <td>22.0</td>\n",
       "      <td>97.105.19.61</td>\n",
       "      <td>Teddy</td>\n",
       "      <td>#teddy</td>\n",
       "      <td>2018-01-08</td>\n",
       "      <td>2018-05-17</td>\n",
       "      <td>java</td>\n",
       "    </tr>\n",
       "  </tbody>\n",
       "</table>\n",
       "</div>"
      ],
      "text/plain": [
       "                  date access_time                             endpoint  \\\n",
       "2018-01-26  2018-01-26    09:55:03                                    /   \n",
       "2018-01-26  2018-01-26    09:56:02                              java-ii   \n",
       "2018-01-26  2018-01-26    09:56:05  java-ii/object-oriented-programming   \n",
       "2018-01-26  2018-01-26    09:56:06   slides/object_oriented_programming   \n",
       "2018-01-26  2018-01-26    09:56:24            javascript-i/conditionals   \n",
       "\n",
       "            user_id  cohort_id     ip_source cohort_name    handle  \\\n",
       "2018-01-26        1        8.0  97.105.19.61     Hampton  #hampton   \n",
       "2018-01-26        1        8.0  97.105.19.61     Hampton  #hampton   \n",
       "2018-01-26        1        8.0  97.105.19.61     Hampton  #hampton   \n",
       "2018-01-26        1        8.0  97.105.19.61     Hampton  #hampton   \n",
       "2018-01-26        2       22.0  97.105.19.61       Teddy    #teddy   \n",
       "\n",
       "           program_start program_end program  \n",
       "2018-01-26    2015-09-22  2016-02-06     php  \n",
       "2018-01-26    2015-09-22  2016-02-06     php  \n",
       "2018-01-26    2015-09-22  2016-02-06     php  \n",
       "2018-01-26    2015-09-22  2016-02-06     php  \n",
       "2018-01-26    2018-01-08  2018-05-17    java  "
      ]
     },
     "execution_count": 29,
     "metadata": {},
     "output_type": "execute_result"
    }
   ],
   "source": [
    "df = ac2.get_df()\n",
    "df.head()"
   ]
  },
  {
   "cell_type": "code",
   "execution_count": 31,
   "id": "ffd06fb1-4ca3-4059-91a2-5e5a3a5298c0",
   "metadata": {},
   "outputs": [
    {
     "data": {
      "text/plain": [
       "52893"
      ]
     },
     "execution_count": 31,
     "metadata": {},
     "output_type": "execute_result"
    }
   ],
   "source": [
    "df['program'].isnull().sum()"
   ]
  },
  {
   "cell_type": "code",
   "execution_count": 32,
   "id": "489c5300-f5b0-43e9-8e12-9e0183801f40",
   "metadata": {},
   "outputs": [
    {
     "ename": "SyntaxError",
     "evalue": "invalid syntax (1450011695.py, line 1)",
     "output_type": "error",
     "traceback": [
      "\u001b[0;36m  File \u001b[0;32m\"/var/folders/hf/46l4fb0x1bj47kh2tdxlqp1h0000gn/T/ipykernel_15526/1450011695.py\"\u001b[0;36m, line \u001b[0;32m1\u001b[0m\n\u001b[0;31m    df['endpoint']df['program' == 'php']\u001b[0m\n\u001b[0m                  ^\u001b[0m\n\u001b[0;31mSyntaxError\u001b[0m\u001b[0;31m:\u001b[0m invalid syntax\n"
     ]
    }
   ],
   "source": [
    "df['endpoint']df['program' == 'php']"
   ]
  },
  {
   "cell_type": "code",
   "execution_count": 41,
   "id": "06fa95eb-cd32-404b-95a1-3fc4d7387b74",
   "metadata": {},
   "outputs": [
    {
     "data": {
      "text/plain": [
       "<pandas.core.groupby.generic.DataFrameGroupBy object at 0x7fb3dbf76700>"
      ]
     },
     "execution_count": 41,
     "metadata": {},
     "output_type": "execute_result"
    }
   ],
   "source": [
    "df.groupby(['program'])"
   ]
  },
  {
   "cell_type": "code",
   "execution_count": 34,
   "id": "859de9ca-3b5f-472f-8d9f-d6ebcf5dd2c0",
   "metadata": {},
   "outputs": [],
   "source": [
    "df1 = df.groupby(['user_id'])['date', 'endpoint', 'cohort_name']"
   ]
  },
  {
   "cell_type": "code",
   "execution_count": 35,
   "id": "42159672-9af1-460e-b47e-87c90b2b4b8b",
   "metadata": {},
   "outputs": [
    {
     "data": {
      "text/plain": [
       "<pandas.core.groupby.generic.DataFrameGroupBy object at 0x7fb3dbf763d0>"
      ]
     },
     "execution_count": 35,
     "metadata": {},
     "output_type": "execute_result"
    }
   ],
   "source": [
    "df1"
   ]
  },
  {
   "cell_type": "code",
   "execution_count": 39,
   "id": "6f8cea4f-1229-43d1-9c21-b35160625001",
   "metadata": {},
   "outputs": [],
   "source": [
    "first_cohort = df[df['cohort_name'] == 'Arches'].groupby(['user_id'])['date', 'endpoint', 'cohort_name']"
   ]
  },
  {
   "cell_type": "code",
   "execution_count": 40,
   "id": "604507a2-31d7-4d50-8c01-39a148e60973",
   "metadata": {},
   "outputs": [
    {
     "data": {
      "text/plain": [
       "<pandas.core.groupby.generic.DataFrameGroupBy object at 0x7fb3e0569310>"
      ]
     },
     "execution_count": 40,
     "metadata": {},
     "output_type": "execute_result"
    }
   ],
   "source": [
    "first_cohort"
   ]
  },
  {
   "cell_type": "code",
   "execution_count": null,
   "id": "9938cfdb-75b2-4b59-a3ef-33e88e109607",
   "metadata": {},
   "outputs": [],
   "source": []
  }
 ],
 "metadata": {
  "kernelspec": {
   "display_name": "Python 3 (ipykernel)",
   "language": "python",
   "name": "python3"
  },
  "language_info": {
   "codemirror_mode": {
    "name": "ipython",
    "version": 3
   },
   "file_extension": ".py",
   "mimetype": "text/x-python",
   "name": "python",
   "nbconvert_exporter": "python",
   "pygments_lexer": "ipython3",
   "version": "3.9.15"
  }
 },
 "nbformat": 4,
 "nbformat_minor": 5
}
