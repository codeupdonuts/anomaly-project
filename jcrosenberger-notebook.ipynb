{
 "cells": [
  {
   "cell_type": "markdown",
   "id": "5f535139-3255-474b-b16a-45b8ec959d0a",
   "metadata": {},
   "source": [
    "1. Which lesson appears to attract the most traffic consistently across cohorts (per program)?\n",
    "2. Is there a cohort that referred to a lesson significantly more than other cohorts seemed to gloss over?\n",
    "3. Are there students who, when active, hardly access the curriculum? If so, what information do you have about these students?\n",
    "4. Is there any suspicious activity, such as users/machines/etc accessing the curriculum who shouldn’t be? Does it appear that any web-scraping is happening? Are there any suspicious IP addresses?\n",
    "5. At some point in 2019, the ability for students and alumni to access both curriculums (web dev to ds, ds to web dev) should have been shut off. Do you see any evidence of that happening? Did it happen before?\n",
    "6. What topics are grads continuing to reference after graduation and into their jobs (for each program)?\n",
    "7. Which lessons are least accessed?\n",
    "8. Anything else I should be aware of?\n",
    "\n",
    "\n",
    "#### I am focusing on questions 1, 2, 7"
   ]
  },
  {
   "cell_type": "code",
   "execution_count": 1,
   "id": "dae53727-5733-44b1-af8d-23050e16635d",
   "metadata": {},
   "outputs": [],
   "source": [
    "import warnings\n",
    "warnings.filterwarnings(\"ignore\")\n",
    "import matplotlib.pyplot as plt\n",
    "import seaborn as sns\n",
    "import numpy as np\n",
    "import pandas as pd\n",
    "\n",
    "# DBSCAN import\n",
    "from sklearn.cluster import DBSCAN\n",
    "# Scaler import\n",
    "from sklearn.preprocessing import MinMaxScaler\n",
    "\n",
    "import acquire as ac\n",
    "from importlib import reload"
   ]
  },
  {
   "cell_type": "code",
   "execution_count": 5,
   "id": "b8e390be-6cdd-4c91-bb5c-2d248e059c6f",
   "metadata": {},
   "outputs": [],
   "source": [
    "df.to_csv('data/ananymized-curriculum-access.csv', index_label = False)"
   ]
  },
  {
   "cell_type": "code",
   "execution_count": 36,
   "id": "48082091-0861-4900-8652-36b522ddbb49",
   "metadata": {},
   "outputs": [],
   "source": [
    "\n",
    "endpoint = df['page'].unique()\n",
    "curriculum_df = pd.DataFrame(endpoint)\n",
    "curriculum_df.rename(columns={0: 'pages'}, inplace = True)"
   ]
  },
  {
   "cell_type": "code",
   "execution_count": 37,
   "id": "bee43041-c423-4bbf-b9da-e1d9b944da8b",
   "metadata": {},
   "outputs": [
    {
     "data": {
      "text/html": [
       "<div>\n",
       "<style scoped>\n",
       "    .dataframe tbody tr th:only-of-type {\n",
       "        vertical-align: middle;\n",
       "    }\n",
       "\n",
       "    .dataframe tbody tr th {\n",
       "        vertical-align: top;\n",
       "    }\n",
       "\n",
       "    .dataframe thead th {\n",
       "        text-align: right;\n",
       "    }\n",
       "</style>\n",
       "<table border=\"1\" class=\"dataframe\">\n",
       "  <thead>\n",
       "    <tr style=\"text-align: right;\">\n",
       "      <th></th>\n",
       "      <th>pages</th>\n",
       "    </tr>\n",
       "  </thead>\n",
       "  <tbody>\n",
       "    <tr>\n",
       "      <th>0</th>\n",
       "      <td>/</td>\n",
       "    </tr>\n",
       "    <tr>\n",
       "      <th>1</th>\n",
       "      <td>java-ii</td>\n",
       "    </tr>\n",
       "    <tr>\n",
       "      <th>2</th>\n",
       "      <td>java-ii/object-oriented-programming</td>\n",
       "    </tr>\n",
       "    <tr>\n",
       "      <th>3</th>\n",
       "      <td>slides/object_oriented_programming</td>\n",
       "    </tr>\n",
       "    <tr>\n",
       "      <th>4</th>\n",
       "      <td>javascript-i/conditionals</td>\n",
       "    </tr>\n",
       "  </tbody>\n",
       "</table>\n",
       "</div>"
      ],
      "text/plain": [
       "                                 pages\n",
       "0                                    /\n",
       "1                              java-ii\n",
       "2  java-ii/object-oriented-programming\n",
       "3   slides/object_oriented_programming\n",
       "4            javascript-i/conditionals"
      ]
     },
     "execution_count": 37,
     "metadata": {},
     "output_type": "execute_result"
    }
   ],
   "source": [
    "curriculum_df.head()"
   ]
  },
  {
   "cell_type": "code",
   "execution_count": 64,
   "id": "0578acba-8133-4b79-b8f9-2824afd62311",
   "metadata": {},
   "outputs": [
    {
     "data": {
      "text/plain": [
       "<module 'acquire' from '/Users/CryanRedrose/codeup-data-science/CodeUp/anomaly-project/acquire.py'>"
      ]
     },
     "execution_count": 64,
     "metadata": {},
     "output_type": "execute_result"
    }
   ],
   "source": [
    "reload(ac)"
   ]
  },
  {
   "cell_type": "code",
   "execution_count": 63,
   "id": "33c28892-f37c-4abf-96e2-272883e0f14f",
   "metadata": {},
   "outputs": [],
   "source": [
    "curriculum = ac.curriculum_dataframe()"
   ]
  },
  {
   "cell_type": "code",
   "execution_count": null,
   "id": "5fd92f68-73fe-4931-8f5f-2589d68c7037",
   "metadata": {},
   "outputs": [],
   "source": [
    "curriculum['pages'].unique().tolist()"
   ]
  },
  {
   "cell_type": "code",
   "execution_count": 46,
   "id": "39c73e3e-71ce-45f6-9788-974234367f42",
   "metadata": {},
   "outputs": [
    {
     "data": {
      "text/plain": [
       "['java-ii/object-oriented-programming']"
      ]
     },
     "execution_count": 46,
     "metadata": {},
     "output_type": "execute_result"
    }
   ],
   "source": [
    "dict_map = {1:'PHP', 2:'Java', 3:'Data Science',4:'Front-End'}\n",
    "update = df['program_id'].map(dict_map)\n",
    "df['program_id'] = update\n",
    "print(df)\n",
    "\n",
    "map_dict = {\n",
    "    1: 'php',\n",
    "    2: 'java',\n",
    "    3: 'data_science',\n",
    "    4: 'front-end'\n",
    "    }\n",
    "df['program_id'] = df['program_id'].map(map_dict)"
   ]
  },
  {
   "cell_type": "code",
   "execution_count": 55,
   "id": "45a19ac2-72b7-486c-96df-291143c8ed29",
   "metadata": {},
   "outputs": [],
   "source": [
    "map_dict = {\n",
    "    1: 'php',\n",
    "    2: 'java',\n",
    "    3: 'data_science',\n",
    "    4: 'front-end'\n",
    "    }\n",
    "df['id'] = df['id'].map(map_dict)"
   ]
  },
  {
   "cell_type": "code",
   "execution_count": 65,
   "id": "cbe9ae25-da00-4db5-be9e-2c6fd88db6eb",
   "metadata": {},
   "outputs": [
    {
     "data": {
      "text/html": [
       "<div>\n",
       "<style scoped>\n",
       "    .dataframe tbody tr th:only-of-type {\n",
       "        vertical-align: middle;\n",
       "    }\n",
       "\n",
       "    .dataframe tbody tr th {\n",
       "        vertical-align: top;\n",
       "    }\n",
       "\n",
       "    .dataframe thead th {\n",
       "        text-align: right;\n",
       "    }\n",
       "</style>\n",
       "<table border=\"1\" class=\"dataframe\">\n",
       "  <thead>\n",
       "    <tr style=\"text-align: right;\">\n",
       "      <th></th>\n",
       "      <th>date</th>\n",
       "      <th>time</th>\n",
       "      <th>page</th>\n",
       "      <th>program</th>\n",
       "      <th>cohort</th>\n",
       "      <th>ip</th>\n",
       "    </tr>\n",
       "  </thead>\n",
       "  <tbody>\n",
       "    <tr>\n",
       "      <th>0</th>\n",
       "      <td>2018-01-26</td>\n",
       "      <td>09:55:03</td>\n",
       "      <td>/</td>\n",
       "      <td>php</td>\n",
       "      <td>8.0</td>\n",
       "      <td>97.105.19.61</td>\n",
       "    </tr>\n",
       "    <tr>\n",
       "      <th>1</th>\n",
       "      <td>2018-01-26</td>\n",
       "      <td>09:56:02</td>\n",
       "      <td>java-ii</td>\n",
       "      <td>php</td>\n",
       "      <td>8.0</td>\n",
       "      <td>97.105.19.61</td>\n",
       "    </tr>\n",
       "    <tr>\n",
       "      <th>2</th>\n",
       "      <td>2018-01-26</td>\n",
       "      <td>09:56:05</td>\n",
       "      <td>java-ii/object-oriented-programming</td>\n",
       "      <td>php</td>\n",
       "      <td>8.0</td>\n",
       "      <td>97.105.19.61</td>\n",
       "    </tr>\n",
       "    <tr>\n",
       "      <th>3</th>\n",
       "      <td>2018-01-26</td>\n",
       "      <td>09:56:06</td>\n",
       "      <td>slides/object_oriented_programming</td>\n",
       "      <td>php</td>\n",
       "      <td>8.0</td>\n",
       "      <td>97.105.19.61</td>\n",
       "    </tr>\n",
       "    <tr>\n",
       "      <th>4</th>\n",
       "      <td>2018-01-26</td>\n",
       "      <td>09:56:24</td>\n",
       "      <td>javascript-i/conditionals</td>\n",
       "      <td>java</td>\n",
       "      <td>22.0</td>\n",
       "      <td>97.105.19.61</td>\n",
       "    </tr>\n",
       "  </tbody>\n",
       "</table>\n",
       "</div>"
      ],
      "text/plain": [
       "         date      time                                 page program  cohort  \\\n",
       "0  2018-01-26  09:55:03                                    /     php     8.0   \n",
       "1  2018-01-26  09:56:02                              java-ii     php     8.0   \n",
       "2  2018-01-26  09:56:05  java-ii/object-oriented-programming     php     8.0   \n",
       "3  2018-01-26  09:56:06   slides/object_oriented_programming     php     8.0   \n",
       "4  2018-01-26  09:56:24            javascript-i/conditionals    java    22.0   \n",
       "\n",
       "             ip  \n",
       "0  97.105.19.61  \n",
       "1  97.105.19.61  \n",
       "2  97.105.19.61  \n",
       "3  97.105.19.61  \n",
       "4  97.105.19.61  "
      ]
     },
     "execution_count": 65,
     "metadata": {},
     "output_type": "execute_result"
    }
   ],
   "source": [
    "df = ac.get_df()\n",
    "df.head()"
   ]
  },
  {
   "cell_type": "code",
   "execution_count": 3,
   "id": "c212c477-2a30-4d29-b8ba-9ca140489ff1",
   "metadata": {},
   "outputs": [],
   "source": [
    "import acquire2 as ac2"
   ]
  },
  {
   "cell_type": "code",
   "execution_count": 90,
   "id": "ee987990-1236-427d-98d8-96134917027e",
   "metadata": {},
   "outputs": [],
   "source": [
    "df1 = ac2.get_df()\n"
   ]
  },
  {
   "cell_type": "code",
   "execution_count": 89,
   "id": "93742075-4fdd-4829-978c-c4891bc6f904",
   "metadata": {},
   "outputs": [],
   "source": [
    "def chron_df():\n",
    "    '''\n",
    "    This function acquires a dataframe from the given text file,\n",
    "    cleans it, and then returns it for use\n",
    "    '''\n",
    "\n",
    "    df = ac2.acquire_curriculum_data()\n",
    "    df = ac2.cleaning(df)\n",
    "    df.date = pd.to_datetime(df.date + ' ' + df.time)\n",
    "    df = df.drop(columns=['time'])\n",
    "    df = df.set_index(df['date'])\n",
    "    df = df.drop(columns=['date'])   \n",
    "\n",
    "    return df"
   ]
  },
  {
   "cell_type": "code",
   "execution_count": 85,
   "id": "15f5afae-a139-48ee-94f4-9039eae93f3f",
   "metadata": {},
   "outputs": [],
   "source": [
    "ex = ac2.acquire_curriculum_data()\n",
    "ex = ac2.cleaning(ex)\n",
    "ex.date = pd.to_datetime(ex.date + ' ' + ex.time)\n",
    "ex = ex.drop(columns=['time'])\n",
    "ex = ex.set_index(ex['date'])\n",
    "ex = ex.drop(columns=['date'])  "
   ]
  },
  {
   "cell_type": "code",
   "execution_count": 91,
   "id": "b3f3b24d-0c5a-40a9-bee5-d29663ae5ea2",
   "metadata": {},
   "outputs": [
    {
     "data": {
      "text/html": [
       "<div>\n",
       "<style scoped>\n",
       "    .dataframe tbody tr th:only-of-type {\n",
       "        vertical-align: middle;\n",
       "    }\n",
       "\n",
       "    .dataframe tbody tr th {\n",
       "        vertical-align: top;\n",
       "    }\n",
       "\n",
       "    .dataframe thead th {\n",
       "        text-align: right;\n",
       "    }\n",
       "</style>\n",
       "<table border=\"1\" class=\"dataframe\">\n",
       "  <thead>\n",
       "    <tr style=\"text-align: right;\">\n",
       "      <th></th>\n",
       "      <th>page</th>\n",
       "      <th>program</th>\n",
       "      <th>cohort</th>\n",
       "      <th>ip</th>\n",
       "    </tr>\n",
       "    <tr>\n",
       "      <th>date</th>\n",
       "      <th></th>\n",
       "      <th></th>\n",
       "      <th></th>\n",
       "      <th></th>\n",
       "    </tr>\n",
       "  </thead>\n",
       "  <tbody>\n",
       "    <tr>\n",
       "      <th>2018-01-26 09:55:03</th>\n",
       "      <td>/</td>\n",
       "      <td>php</td>\n",
       "      <td>8.0</td>\n",
       "      <td>97.105.19.61</td>\n",
       "    </tr>\n",
       "    <tr>\n",
       "      <th>2018-01-26 09:56:02</th>\n",
       "      <td>java-ii</td>\n",
       "      <td>php</td>\n",
       "      <td>8.0</td>\n",
       "      <td>97.105.19.61</td>\n",
       "    </tr>\n",
       "    <tr>\n",
       "      <th>2018-01-26 09:56:05</th>\n",
       "      <td>java-ii/object-oriented-programming</td>\n",
       "      <td>php</td>\n",
       "      <td>8.0</td>\n",
       "      <td>97.105.19.61</td>\n",
       "    </tr>\n",
       "    <tr>\n",
       "      <th>2018-01-26 09:56:06</th>\n",
       "      <td>slides/object_oriented_programming</td>\n",
       "      <td>php</td>\n",
       "      <td>8.0</td>\n",
       "      <td>97.105.19.61</td>\n",
       "    </tr>\n",
       "    <tr>\n",
       "      <th>2018-01-26 09:56:24</th>\n",
       "      <td>javascript-i/conditionals</td>\n",
       "      <td>java</td>\n",
       "      <td>22.0</td>\n",
       "      <td>97.105.19.61</td>\n",
       "    </tr>\n",
       "  </tbody>\n",
       "</table>\n",
       "</div>"
      ],
      "text/plain": [
       "                                                    page program  cohort  \\\n",
       "date                                                                       \n",
       "2018-01-26 09:55:03                                    /     php     8.0   \n",
       "2018-01-26 09:56:02                              java-ii     php     8.0   \n",
       "2018-01-26 09:56:05  java-ii/object-oriented-programming     php     8.0   \n",
       "2018-01-26 09:56:06   slides/object_oriented_programming     php     8.0   \n",
       "2018-01-26 09:56:24            javascript-i/conditionals    java    22.0   \n",
       "\n",
       "                               ip  \n",
       "date                               \n",
       "2018-01-26 09:55:03  97.105.19.61  \n",
       "2018-01-26 09:56:02  97.105.19.61  \n",
       "2018-01-26 09:56:05  97.105.19.61  \n",
       "2018-01-26 09:56:06  97.105.19.61  \n",
       "2018-01-26 09:56:24  97.105.19.61  "
      ]
     },
     "execution_count": 91,
     "metadata": {},
     "output_type": "execute_result"
    }
   ],
   "source": [
    "df2.head()"
   ]
  },
  {
   "cell_type": "code",
   "execution_count": 4,
   "id": "484987bc-cb32-4134-b0a2-81b0963223b8",
   "metadata": {},
   "outputs": [],
   "source": [
    " df3 = ac2.chron_df()"
   ]
  },
  {
   "cell_type": "code",
   "execution_count": 5,
   "id": "d36c6dae-a6ef-4165-a434-750f03512575",
   "metadata": {},
   "outputs": [
    {
     "data": {
      "text/html": [
       "<div>\n",
       "<style scoped>\n",
       "    .dataframe tbody tr th:only-of-type {\n",
       "        vertical-align: middle;\n",
       "    }\n",
       "\n",
       "    .dataframe tbody tr th {\n",
       "        vertical-align: top;\n",
       "    }\n",
       "\n",
       "    .dataframe thead th {\n",
       "        text-align: right;\n",
       "    }\n",
       "</style>\n",
       "<table border=\"1\" class=\"dataframe\">\n",
       "  <thead>\n",
       "    <tr style=\"text-align: right;\">\n",
       "      <th></th>\n",
       "      <th>page</th>\n",
       "      <th>program</th>\n",
       "      <th>cohort</th>\n",
       "      <th>ip</th>\n",
       "    </tr>\n",
       "    <tr>\n",
       "      <th>date</th>\n",
       "      <th></th>\n",
       "      <th></th>\n",
       "      <th></th>\n",
       "      <th></th>\n",
       "    </tr>\n",
       "  </thead>\n",
       "  <tbody>\n",
       "    <tr>\n",
       "      <th>2018-01-26 09:55:03</th>\n",
       "      <td>/</td>\n",
       "      <td>php</td>\n",
       "      <td>8.0</td>\n",
       "      <td>97.105.19.61</td>\n",
       "    </tr>\n",
       "    <tr>\n",
       "      <th>2018-01-26 09:56:02</th>\n",
       "      <td>java-ii</td>\n",
       "      <td>php</td>\n",
       "      <td>8.0</td>\n",
       "      <td>97.105.19.61</td>\n",
       "    </tr>\n",
       "    <tr>\n",
       "      <th>2018-01-26 09:56:05</th>\n",
       "      <td>java-ii/object-oriented-programming</td>\n",
       "      <td>php</td>\n",
       "      <td>8.0</td>\n",
       "      <td>97.105.19.61</td>\n",
       "    </tr>\n",
       "    <tr>\n",
       "      <th>2018-01-26 09:56:06</th>\n",
       "      <td>slides/object_oriented_programming</td>\n",
       "      <td>php</td>\n",
       "      <td>8.0</td>\n",
       "      <td>97.105.19.61</td>\n",
       "    </tr>\n",
       "    <tr>\n",
       "      <th>2018-01-26 09:56:24</th>\n",
       "      <td>javascript-i/conditionals</td>\n",
       "      <td>java</td>\n",
       "      <td>22.0</td>\n",
       "      <td>97.105.19.61</td>\n",
       "    </tr>\n",
       "  </tbody>\n",
       "</table>\n",
       "</div>"
      ],
      "text/plain": [
       "                                                    page program  cohort  \\\n",
       "date                                                                       \n",
       "2018-01-26 09:55:03                                    /     php     8.0   \n",
       "2018-01-26 09:56:02                              java-ii     php     8.0   \n",
       "2018-01-26 09:56:05  java-ii/object-oriented-programming     php     8.0   \n",
       "2018-01-26 09:56:06   slides/object_oriented_programming     php     8.0   \n",
       "2018-01-26 09:56:24            javascript-i/conditionals    java    22.0   \n",
       "\n",
       "                               ip  \n",
       "date                               \n",
       "2018-01-26 09:55:03  97.105.19.61  \n",
       "2018-01-26 09:56:02  97.105.19.61  \n",
       "2018-01-26 09:56:05  97.105.19.61  \n",
       "2018-01-26 09:56:06  97.105.19.61  \n",
       "2018-01-26 09:56:24  97.105.19.61  "
      ]
     },
     "execution_count": 5,
     "metadata": {},
     "output_type": "execute_result"
    }
   ],
   "source": [
    "df3.head()"
   ]
  },
  {
   "cell_type": "code",
   "execution_count": null,
   "id": "859de9ca-3b5f-472f-8d9f-d6ebcf5dd2c0",
   "metadata": {},
   "outputs": [],
   "source": []
  }
 ],
 "metadata": {
  "kernelspec": {
   "display_name": "Python 3 (ipykernel)",
   "language": "python",
   "name": "python3"
  },
  "language_info": {
   "codemirror_mode": {
    "name": "ipython",
    "version": 3
   },
   "file_extension": ".py",
   "mimetype": "text/x-python",
   "name": "python",
   "nbconvert_exporter": "python",
   "pygments_lexer": "ipython3",
   "version": "3.9.15"
  }
 },
 "nbformat": 4,
 "nbformat_minor": 5
}
