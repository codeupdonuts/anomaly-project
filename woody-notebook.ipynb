{
 "cells": [
  {
   "cell_type": "code",
   "execution_count": 25,
   "metadata": {},
   "outputs": [],
   "source": [
    "import numpy as np\n",
    "import pandas as pd\n",
    "import seaborn as sns\n",
    "import matplotlib.pyplot as plt\n",
    "from importlib import reload\n",
    "import warnings\n",
    "warnings.simplefilter(\"ignore\")\n",
    "%matplotlib inline\n",
    "%config InlineBackend.figure_format = 'retina'\n",
    "import acquire as a\n",
    "import woody_explore as e"
   ]
  },
  {
   "attachments": {},
   "cell_type": "markdown",
   "metadata": {},
   "source": [
    "4. Is there any suspicious activity, such as users/machines/etc accessing the curriculum who shouldn’t be? Does it appear that any web-scraping is happening? Are there any suspicious IP addresses?\n",
    "5. At some point in 2019, the ability for students and alumni to access both curriculums (web dev to ds, ds to web dev) should have been shut off. Do you see any evidence of that happening? Did it happen before?\n"
   ]
  },
  {
   "cell_type": "code",
   "execution_count": 26,
   "metadata": {},
   "outputs": [
    {
     "data": {
      "text/plain": [
       "900222"
      ]
     },
     "execution_count": 26,
     "metadata": {},
     "output_type": "execute_result"
    }
   ],
   "source": [
    "reload(a)\n",
    "df = a.wrangle_curriculum_access()\n",
    "df = df.dropna(subset=['page'])\n",
    "df.shape[0]"
   ]
  },
  {
   "cell_type": "code",
   "execution_count": 27,
   "metadata": {},
   "outputs": [
    {
     "data": {
      "text/plain": [
       "3933"
      ]
     },
     "execution_count": 27,
     "metadata": {},
     "output_type": "execute_result"
    }
   ],
   "source": [
    "df.page.str.contains('php').sum()"
   ]
  },
  {
   "cell_type": "code",
   "execution_count": 28,
   "metadata": {},
   "outputs": [
    {
     "data": {
      "text/html": [
       "<div>\n",
       "<style scoped>\n",
       "    .dataframe tbody tr th:only-of-type {\n",
       "        vertical-align: middle;\n",
       "    }\n",
       "\n",
       "    .dataframe tbody tr th {\n",
       "        vertical-align: top;\n",
       "    }\n",
       "\n",
       "    .dataframe thead th {\n",
       "        text-align: right;\n",
       "    }\n",
       "</style>\n",
       "<table border=\"1\" class=\"dataframe\">\n",
       "  <thead>\n",
       "    <tr style=\"text-align: right;\">\n",
       "      <th></th>\n",
       "      <th>page</th>\n",
       "      <th>id</th>\n",
       "      <th>ip</th>\n",
       "      <th>cohort_name</th>\n",
       "      <th>start_date</th>\n",
       "      <th>end_date</th>\n",
       "      <th>program_length</th>\n",
       "      <th>program_name</th>\n",
       "      <th>page_is_ds</th>\n",
       "    </tr>\n",
       "    <tr>\n",
       "      <th>date</th>\n",
       "      <th></th>\n",
       "      <th></th>\n",
       "      <th></th>\n",
       "      <th></th>\n",
       "      <th></th>\n",
       "      <th></th>\n",
       "      <th></th>\n",
       "      <th></th>\n",
       "      <th></th>\n",
       "    </tr>\n",
       "  </thead>\n",
       "  <tbody>\n",
       "    <tr>\n",
       "      <th>2018-01-26 09:55:03</th>\n",
       "      <td>/</td>\n",
       "      <td>1</td>\n",
       "      <td>97.105.19.61</td>\n",
       "      <td>Hampton</td>\n",
       "      <td>2015-09-22</td>\n",
       "      <td>2016-02-06</td>\n",
       "      <td>137 days</td>\n",
       "      <td>PHP</td>\n",
       "      <td>False</td>\n",
       "    </tr>\n",
       "    <tr>\n",
       "      <th>2018-01-26 09:56:02</th>\n",
       "      <td>java-ii</td>\n",
       "      <td>1</td>\n",
       "      <td>97.105.19.61</td>\n",
       "      <td>Hampton</td>\n",
       "      <td>2015-09-22</td>\n",
       "      <td>2016-02-06</td>\n",
       "      <td>137 days</td>\n",
       "      <td>PHP</td>\n",
       "      <td>False</td>\n",
       "    </tr>\n",
       "    <tr>\n",
       "      <th>2018-01-26 09:56:05</th>\n",
       "      <td>java-ii/object-oriented-programming</td>\n",
       "      <td>1</td>\n",
       "      <td>97.105.19.61</td>\n",
       "      <td>Hampton</td>\n",
       "      <td>2015-09-22</td>\n",
       "      <td>2016-02-06</td>\n",
       "      <td>137 days</td>\n",
       "      <td>PHP</td>\n",
       "      <td>False</td>\n",
       "    </tr>\n",
       "    <tr>\n",
       "      <th>2018-01-26 09:56:06</th>\n",
       "      <td>slides/object_oriented_programming</td>\n",
       "      <td>1</td>\n",
       "      <td>97.105.19.61</td>\n",
       "      <td>Hampton</td>\n",
       "      <td>2015-09-22</td>\n",
       "      <td>2016-02-06</td>\n",
       "      <td>137 days</td>\n",
       "      <td>PHP</td>\n",
       "      <td>False</td>\n",
       "    </tr>\n",
       "    <tr>\n",
       "      <th>2018-01-26 09:56:24</th>\n",
       "      <td>javascript-i/conditionals</td>\n",
       "      <td>2</td>\n",
       "      <td>97.105.19.61</td>\n",
       "      <td>Teddy</td>\n",
       "      <td>2018-01-08</td>\n",
       "      <td>2018-05-17</td>\n",
       "      <td>129 days</td>\n",
       "      <td>Java</td>\n",
       "      <td>False</td>\n",
       "    </tr>\n",
       "  </tbody>\n",
       "</table>\n",
       "</div>"
      ],
      "text/plain": [
       "                                                    page  id            ip  \\\n",
       "date                                                                         \n",
       "2018-01-26 09:55:03                                    /   1  97.105.19.61   \n",
       "2018-01-26 09:56:02                              java-ii   1  97.105.19.61   \n",
       "2018-01-26 09:56:05  java-ii/object-oriented-programming   1  97.105.19.61   \n",
       "2018-01-26 09:56:06   slides/object_oriented_programming   1  97.105.19.61   \n",
       "2018-01-26 09:56:24            javascript-i/conditionals   2  97.105.19.61   \n",
       "\n",
       "                    cohort_name start_date   end_date program_length  \\\n",
       "date                                                                   \n",
       "2018-01-26 09:55:03     Hampton 2015-09-22 2016-02-06       137 days   \n",
       "2018-01-26 09:56:02     Hampton 2015-09-22 2016-02-06       137 days   \n",
       "2018-01-26 09:56:05     Hampton 2015-09-22 2016-02-06       137 days   \n",
       "2018-01-26 09:56:06     Hampton 2015-09-22 2016-02-06       137 days   \n",
       "2018-01-26 09:56:24       Teddy 2018-01-08 2018-05-17       129 days   \n",
       "\n",
       "                    program_name  page_is_ds  \n",
       "date                                          \n",
       "2018-01-26 09:55:03          PHP       False  \n",
       "2018-01-26 09:56:02          PHP       False  \n",
       "2018-01-26 09:56:05          PHP       False  \n",
       "2018-01-26 09:56:06          PHP       False  \n",
       "2018-01-26 09:56:24         Java       False  "
      ]
     },
     "execution_count": 28,
     "metadata": {},
     "output_type": "execute_result"
    }
   ],
   "source": [
    "df['page_is_ds'] = False\n",
    "df.loc[df.page.str.startswith(('1','2','3','4','5','6','7','8','9','0')),'page_is_ds'] = True\n",
    "df.head()"
   ]
  },
  {
   "cell_type": "code",
   "execution_count": 29,
   "metadata": {},
   "outputs": [
    {
     "data": {
      "text/plain": [
       "date\n",
       "2018-01-26 09:55:03    False\n",
       "2018-01-26 09:56:02    False\n",
       "2018-01-26 09:56:05    False\n",
       "2018-01-26 09:56:06    False\n",
       "2018-01-26 09:56:24    False\n",
       "                       ...  \n",
       "2021-04-21 16:41:51    False\n",
       "2021-04-21 16:42:02    False\n",
       "2021-04-21 16:42:09    False\n",
       "2021-04-21 16:44:37    False\n",
       "2021-04-21 16:44:39    False\n",
       "Name: page, Length: 900222, dtype: bool"
      ]
     },
     "execution_count": 29,
     "metadata": {},
     "output_type": "execute_result"
    }
   ],
   "source": [
    "df.page.str.contains('html')"
   ]
  },
  {
   "cell_type": "code",
   "execution_count": 30,
   "metadata": {},
   "outputs": [
    {
     "data": {
      "text/html": [
       "<div>\n",
       "<style scoped>\n",
       "    .dataframe tbody tr th:only-of-type {\n",
       "        vertical-align: middle;\n",
       "    }\n",
       "\n",
       "    .dataframe tbody tr th {\n",
       "        vertical-align: top;\n",
       "    }\n",
       "\n",
       "    .dataframe thead th {\n",
       "        text-align: right;\n",
       "    }\n",
       "</style>\n",
       "<table border=\"1\" class=\"dataframe\">\n",
       "  <thead>\n",
       "    <tr style=\"text-align: right;\">\n",
       "      <th>date</th>\n",
       "      <th>2018-01-26 09:55:03</th>\n",
       "      <th>2018-01-26 09:56:02</th>\n",
       "      <th>2018-01-26 09:56:05</th>\n",
       "      <th>2018-01-26 09:56:06</th>\n",
       "      <th>2018-01-26 09:56:24</th>\n",
       "    </tr>\n",
       "  </thead>\n",
       "  <tbody>\n",
       "    <tr>\n",
       "      <th>page</th>\n",
       "      <td>/</td>\n",
       "      <td>java-ii</td>\n",
       "      <td>java-ii/object-oriented-programming</td>\n",
       "      <td>slides/object_oriented_programming</td>\n",
       "      <td>javascript-i/conditionals</td>\n",
       "    </tr>\n",
       "    <tr>\n",
       "      <th>id</th>\n",
       "      <td>1</td>\n",
       "      <td>1</td>\n",
       "      <td>1</td>\n",
       "      <td>1</td>\n",
       "      <td>2</td>\n",
       "    </tr>\n",
       "    <tr>\n",
       "      <th>ip</th>\n",
       "      <td>97.105.19.61</td>\n",
       "      <td>97.105.19.61</td>\n",
       "      <td>97.105.19.61</td>\n",
       "      <td>97.105.19.61</td>\n",
       "      <td>97.105.19.61</td>\n",
       "    </tr>\n",
       "    <tr>\n",
       "      <th>cohort_name</th>\n",
       "      <td>Hampton</td>\n",
       "      <td>Hampton</td>\n",
       "      <td>Hampton</td>\n",
       "      <td>Hampton</td>\n",
       "      <td>Teddy</td>\n",
       "    </tr>\n",
       "    <tr>\n",
       "      <th>start_date</th>\n",
       "      <td>2015-09-22 00:00:00</td>\n",
       "      <td>2015-09-22 00:00:00</td>\n",
       "      <td>2015-09-22 00:00:00</td>\n",
       "      <td>2015-09-22 00:00:00</td>\n",
       "      <td>2018-01-08 00:00:00</td>\n",
       "    </tr>\n",
       "    <tr>\n",
       "      <th>end_date</th>\n",
       "      <td>2016-02-06 00:00:00</td>\n",
       "      <td>2016-02-06 00:00:00</td>\n",
       "      <td>2016-02-06 00:00:00</td>\n",
       "      <td>2016-02-06 00:00:00</td>\n",
       "      <td>2018-05-17 00:00:00</td>\n",
       "    </tr>\n",
       "    <tr>\n",
       "      <th>program_length</th>\n",
       "      <td>137 days 00:00:00</td>\n",
       "      <td>137 days 00:00:00</td>\n",
       "      <td>137 days 00:00:00</td>\n",
       "      <td>137 days 00:00:00</td>\n",
       "      <td>129 days 00:00:00</td>\n",
       "    </tr>\n",
       "    <tr>\n",
       "      <th>program_name</th>\n",
       "      <td>PHP</td>\n",
       "      <td>PHP</td>\n",
       "      <td>PHP</td>\n",
       "      <td>PHP</td>\n",
       "      <td>Java</td>\n",
       "    </tr>\n",
       "    <tr>\n",
       "      <th>page_is_ds</th>\n",
       "      <td>False</td>\n",
       "      <td>False</td>\n",
       "      <td>False</td>\n",
       "      <td>False</td>\n",
       "      <td>False</td>\n",
       "    </tr>\n",
       "  </tbody>\n",
       "</table>\n",
       "</div>"
      ],
      "text/plain": [
       "date            2018-01-26 09:55:03  2018-01-26 09:56:02  \\\n",
       "page                              /              java-ii   \n",
       "id                                1                    1   \n",
       "ip                     97.105.19.61         97.105.19.61   \n",
       "cohort_name                 Hampton              Hampton   \n",
       "start_date      2015-09-22 00:00:00  2015-09-22 00:00:00   \n",
       "end_date        2016-02-06 00:00:00  2016-02-06 00:00:00   \n",
       "program_length    137 days 00:00:00    137 days 00:00:00   \n",
       "program_name                    PHP                  PHP   \n",
       "page_is_ds                    False                False   \n",
       "\n",
       "date                            2018-01-26 09:56:05  \\\n",
       "page            java-ii/object-oriented-programming   \n",
       "id                                                1   \n",
       "ip                                     97.105.19.61   \n",
       "cohort_name                                 Hampton   \n",
       "start_date                      2015-09-22 00:00:00   \n",
       "end_date                        2016-02-06 00:00:00   \n",
       "program_length                    137 days 00:00:00   \n",
       "program_name                                    PHP   \n",
       "page_is_ds                                    False   \n",
       "\n",
       "date                           2018-01-26 09:56:06        2018-01-26 09:56:24  \n",
       "page            slides/object_oriented_programming  javascript-i/conditionals  \n",
       "id                                               1                          2  \n",
       "ip                                    97.105.19.61               97.105.19.61  \n",
       "cohort_name                                Hampton                      Teddy  \n",
       "start_date                     2015-09-22 00:00:00        2018-01-08 00:00:00  \n",
       "end_date                       2016-02-06 00:00:00        2018-05-17 00:00:00  \n",
       "program_length                   137 days 00:00:00          129 days 00:00:00  \n",
       "program_name                                   PHP                       Java  \n",
       "page_is_ds                                   False                      False  "
      ]
     },
     "execution_count": 30,
     "metadata": {},
     "output_type": "execute_result"
    }
   ],
   "source": [
    "df.head().T"
   ]
  },
  {
   "cell_type": "code",
   "execution_count": 31,
   "metadata": {},
   "outputs": [],
   "source": [
    "ds_topics = ['search_index.json','/','cluster','mysql','acquire','series','dataframe','toc','login','storytelling','stats','appendix','fundamentals','anomaly','ai','tidy','ml','python','sql','data-science','explore','classification','timeseries','regression','nlp']\n",
    "not_ds_topics = ['spring','java','css','jquery']\n",
    "df.page_is_ds = False\n",
    "df.loc[df.page.str.startswith(('1','2','3','4','5','6','7','8','9','0')),'page_is_ds'] = True\n",
    "df.loc[df.page.str.contains('search_index.json'),'page_is_ds'] = True\n",
    "for topic in ds_topics:\n",
    "    df.loc[df.page.str.contains(topic,case=False),'page_is_ds'] = True\n",
    "for topic in not_ds_topics:\n",
    "    df.loc[df.page.str.contains(topic,case=False),'page_is_ds'] = False\n",
    "check_pages = df[df.page_is_ds & (df.program_name != 'data science')].page.value_counts()"
   ]
  },
  {
   "cell_type": "code",
   "execution_count": null,
   "metadata": {},
   "outputs": [],
   "source": []
  },
  {
   "cell_type": "code",
   "execution_count": 32,
   "metadata": {},
   "outputs": [],
   "source": [
    "ds_cohorts = df[df.program_name == 'data science'].cohort_name.unique()\n",
    "not_program_specific = ['/','search/search_index.json']\n",
    "\n",
    "ds_info = df[df.cohort_name.isin(ds_cohorts) & ~df.page_is_ds].page.value_counts(ascending=True)"
   ]
  },
  {
   "cell_type": "code",
   "execution_count": 33,
   "metadata": {},
   "outputs": [],
   "source": [
    "df.loc[df.page.str.contains('search_index.json'),'page_is_ds'] = True"
   ]
  },
  {
   "attachments": {},
   "cell_type": "markdown",
   "metadata": {},
   "source": [
    "## CRISTINE COPY BELOW CELL"
   ]
  },
  {
   "cell_type": "code",
   "execution_count": 34,
   "metadata": {},
   "outputs": [
    {
     "data": {
      "text/html": [
       "<div>\n",
       "<style scoped>\n",
       "    .dataframe tbody tr th:only-of-type {\n",
       "        vertical-align: middle;\n",
       "    }\n",
       "\n",
       "    .dataframe tbody tr th {\n",
       "        vertical-align: top;\n",
       "    }\n",
       "\n",
       "    .dataframe thead th {\n",
       "        text-align: right;\n",
       "    }\n",
       "</style>\n",
       "<table border=\"1\" class=\"dataframe\">\n",
       "  <thead>\n",
       "    <tr style=\"text-align: right;\">\n",
       "      <th></th>\n",
       "      <th>page</th>\n",
       "      <th>id</th>\n",
       "      <th>ip</th>\n",
       "      <th>cohort_name</th>\n",
       "      <th>start_date</th>\n",
       "      <th>end_date</th>\n",
       "      <th>program_length</th>\n",
       "      <th>program_name</th>\n",
       "      <th>page_is_ds</th>\n",
       "    </tr>\n",
       "    <tr>\n",
       "      <th>date</th>\n",
       "      <th></th>\n",
       "      <th></th>\n",
       "      <th></th>\n",
       "      <th></th>\n",
       "      <th></th>\n",
       "      <th></th>\n",
       "      <th></th>\n",
       "      <th></th>\n",
       "      <th></th>\n",
       "    </tr>\n",
       "  </thead>\n",
       "  <tbody>\n",
       "  </tbody>\n",
       "</table>\n",
       "</div>"
      ],
      "text/plain": [
       "Empty DataFrame\n",
       "Columns: [page, id, ip, cohort_name, start_date, end_date, program_length, program_name, page_is_ds]\n",
       "Index: []"
      ]
     },
     "execution_count": 34,
     "metadata": {},
     "output_type": "execute_result"
    }
   ],
   "source": [
    "ds_topics = ['search_index.json','/','cluster','mysql','acquire','series','dataframe','toc','login','storytelling','stats','appendix','fundamentals','anomaly','ai','tidy','ml','python','sql','data-science','explore','classification','timeseries','regression','nlp']\n",
    "not_ds_topics = ['spring','java','css','jquery']\n",
    "df.page_is_ds = False\n",
    "df.loc[df.page.str.startswith(('1','2','3','4','5','6','7','8','9','0')),'page_is_ds'] = True\n",
    "df.loc[df.page.str.contains('search_index.json'),'page_is_ds'] = True\n",
    "for topic in ds_topics:\n",
    "    df.loc[df.page.str.contains(topic,case=False),'page_is_ds'] = True\n",
    "for topic in not_ds_topics:\n",
    "    df.loc[df.page.str.contains(topic,case=False),'page_is_ds'] = False\n",
    "post_2019 = df[df.index.year == 2020]\n",
    "post_2019 = post_2019[(post_2019.program_name == 'data science') & ~post_2019.page_is_ds].sort_index(ascending=False)\n",
    "post_2019"
   ]
  },
  {
   "cell_type": "code",
   "execution_count": null,
   "metadata": {},
   "outputs": [],
   "source": []
  }
 ],
 "metadata": {
  "kernelspec": {
   "display_name": "codeup",
   "language": "python",
   "name": "python3"
  },
  "language_info": {
   "codemirror_mode": {
    "name": "ipython",
    "version": 3
   },
   "file_extension": ".py",
   "mimetype": "text/x-python",
   "name": "python",
   "nbconvert_exporter": "python",
   "pygments_lexer": "ipython3",
   "version": "3.9.15"
  },
  "orig_nbformat": 4,
  "vscode": {
   "interpreter": {
    "hash": "653f3b7eb86bda3113d2d1f85ae6ed711e8a2906aba868c97a03afd554718a6e"
   }
  }
 },
 "nbformat": 4,
 "nbformat_minor": 2
}
